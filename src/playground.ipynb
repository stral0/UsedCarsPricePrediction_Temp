{
 "cells": [
  {
   "cell_type": "code",
   "execution_count": 42,
   "metadata": {},
   "outputs": [],
   "source": [
    "import pickle\n",
    "import os \n",
    "import pandas as pd\n",
    "import numpy as np  \n",
    "import re\n",
    "import copy\n",
    "\n",
    "from sklearn.preprocessing import PolynomialFeatures\n",
    "from sklearn.linear_model import LinearRegression\n",
    "from sklearn.neighbors import KNeighborsRegressor\n",
    "from sklearn.model_selection import train_test_split\n",
    "from sklearn.metrics import mean_squared_error\n",
    "from sklearn.neural_network import MLPRegressor\n",
    "from sklearn.preprocessing import StandardScaler\n",
    "\n",
    "from bs4 import BeautifulSoup\n",
    "\n",
    "# idx = 10\n",
    "# for id in [1, 10, 14, 15]:\n",
    "#     pickle_file = open(f\"../data/features/car_number_{id + 1}.pkl\", \"rb\") ##### offset is 1\n",
    "#     unpickled = pickle.load(pickle_file)\n",
    "\n",
    "#     basic_info = unpickled[0]\n",
    "#     basic_info.update(unpickled[1])\n",
    "#     additional_info = unpickled[2]\n",
    "\n",
    "#     if 'price' in basic_info:\n",
    "#         print(id, basic_info['price'])\n",
    "    # print(prices[id])\n",
    "# print(\"=== BASIC INFO ===\\n\", basic_info.keys())\n",
    "# print(\"\\n=== ADDITIONAL INFO ===\\n\", additional_info)"
   ]
  },
  {
   "cell_type": "markdown",
   "metadata": {},
   "source": [
    "# Preprocessing of the prices for all vehicles"
   ]
  },
  {
   "cell_type": "code",
   "execution_count": 43,
   "metadata": {},
   "outputs": [],
   "source": [
    "prices_path = '../data/prices_for_all_vehicles.pkl'\n",
    "with open(prices_path, 'rb') as pp:\n",
    "    unpickled_prices = pickle.load(pp)\n",
    "    unpickled_prices = list(map(lambda x: (x[0], int(x[1][:-2].replace('.', '')) if '€' in x[1] else -1), unpickled_prices))\n",
    "    unpickled_prices = list(filter(lambda x: True if x[1] > 0 else False, unpickled_prices))\n",
    "prices = dict(unpickled_prices)"
   ]
  },
  {
   "cell_type": "markdown",
   "metadata": {},
   "source": [
    "## Collecting car features and unpickling them"
   ]
  },
  {
   "cell_type": "code",
   "execution_count": 65,
   "metadata": {},
   "outputs": [],
   "source": [
    "def generate_price(basic_info, scale=1e6):\n",
    "    \"\"\"\n",
    "    Used to generate price in the times when the original price was not yet scrapped.\n",
    "    \"\"\"\n",
    "    mileage_str_raw = basic_info['mileageFromOdometer'] \n",
    "    mileage_str = re.sub(\"[^0-9]\", \"\", mileage_str_raw[ : -4]) \n",
    "    # price = scale * 1 / (float(mileage_str) + 1)\n",
    "    # price = float(mileage_str)\n",
    "    price = scale - float(mileage_str)\n",
    "\n",
    "    return price\n",
    "\n",
    "\n",
    "def collect_raw_data(data_folder, prices):\n",
    "    \"\"\"\n",
    "    Returns a list where each element is a dictionary corresponding to a single car.\n",
    "\n",
    "    \"\"\"\n",
    "    \n",
    "    raw_data = []\n",
    "    file_names = os.listdir(data_folder)\n",
    "\n",
    "    # for file_name in file_names:\n",
    "    for car_idx in prices.keys():\n",
    "\n",
    "        file_name = f\"car_number_{car_idx + 1}.pkl\" #+1 is for offset\n",
    "        if file_name not in file_names:\n",
    "            continue\n",
    "\n",
    "        file_path = os.path.join(data_folder, file_name)\n",
    "        pickle_file = open(file_path, \"rb\")\n",
    "        unpickled = pickle.load(pickle_file) \n",
    "        try:\n",
    "            basic_info = unpickled[0]\n",
    "            basic_info.update(unpickled[1])\n",
    "            additional_info = unpickled[2]\n",
    "        except(TypeError):\n",
    "            return raw_data\n",
    "\n",
    "\n",
    "        # print(file_name)\n",
    "        # print(f\"{car_idx} -- {prices[car_idx]}\\n\\n\")\n",
    "        # print(file_path)\n",
    "        # print(basic_info)\n",
    "\n",
    "        # price = generate_price(basic_info)\n",
    "        try:\n",
    "            price = prices[car_idx]\n",
    "            basic_info.update({'price' : price})\n",
    "            raw_data.append(basic_info)\n",
    "        except(KeyError):\n",
    "            continue\n",
    "\n",
    "    return raw_data\n",
    "\n",
    "def print_dict(raw_data):\n",
    "    # print(raw_data[0])\n",
    "    for r in raw_data:\n",
    "        print(r, ' ---- ', raw_data[r])\n",
    "    print('Length =', len(raw_data))    "
   ]
  },
  {
   "cell_type": "code",
   "execution_count": 66,
   "metadata": {},
   "outputs": [
    {
     "name": "stdout",
     "output_type": "stream",
     "text": [
      "../data/features/car_number_1.pkl  not working! dict_keys([0, 2, 3, 6, 8, 10, 14, 15, 20, 21, 23, 25, 30, 33, 35, 36, 44, 48, 52, 53, 61, 66, 69, 80, 82, 84, 95, 96, 101, 114, 116, 117, 123, 126, 128, 129, 134, 137, 138, 144, 151, 152, 159, 166, 168, 169, 170, 171, 175, 184, 193, 194, 195, 197, 199, 204, 221, 223, 231, 233, 241, 242, 244, 246, 247, 253, 254, 257, 258, 260, 262, 266, 273, 274, 275, 277, 278, 282, 283, 286, 288, 289, 293, 294, 296, 297, 298, 299, 300, 302, 303, 305, 314, 316, 318, 330, 332, 334, 335, 340, 344, 348, 350, 353, 355, 356, 358, 368, 369, 370, 375, 380, 381, 382, 383, 386, 388, 391, 394, 397, 399, 400, 401, 411, 413, 416, 417, 420, 426, 434, 440, 458, 460, 465, 467, 472, 484, 485, 486, 490, 495, 498, 505, 508, 514, 520, 526, 534, 541, 542, 543, 544, 551, 558, 562, 567, 570, 579, 583, 584, 585, 586, 593, 595, 597, 598, 607, 610, 613, 614, 616, 619, 620, 621, 623, 625, 629, 633, 634, 638, 639, 643, 646, 649, 653, 658, 659, 660, 662, 663, 665, 666, 667, 668, 670, 671, 676, 685, 686, 688, 689, 692, 695, 700, 702, 710, 716, 717, 724, 725, 726, 729, 731, 732, 733, 734, 736, 738, 741, 742, 743, 748, 750, 751, 754, 755, 757, 761, 762, 772, 778, 779, 780, 781, 782, 785, 786, 788, 793, 794, 795, 800, 801, 802, 805, 813, 815, 817, 820, 821, 834, 835, 836, 839, 840, 843, 847, 848, 849, 850, 851, 853, 854, 857, 858, 860, 865, 871, 872, 874, 875, 876, 878, 880, 882, 883, 884, 885, 886, 889, 891, 899, 905, 922, 924, 947, 949, 950, 953, 954, 958, 959, 963, 964, 966, 967, 968, 969, 970, 972, 973, 975, 976, 981, 984, 995, 996, 1000, 1002, 1012, 1013, 1014, 1021, 1026, 1029, 1037, 1042, 1045, 1047, 1055, 1059, 1062, 1067, 1078, 1080, 1084, 1086, 1087, 1090, 1094, 1095, 1096, 1102, 1103, 1105, 1106, 1112, 1115, 1119, 1120, 1122, 1127, 1128, 1129, 1133, 1137, 1138])\n",
      "../data/features/car_number_11.pkl  not working! dict_keys([0, 2, 3, 6, 8, 10, 14, 15, 20, 21, 23, 25, 30, 33, 35, 36, 44, 48, 52, 53, 61, 66, 69, 80, 82, 84, 95, 96, 101, 114, 116, 117, 123, 126, 128, 129, 134, 137, 138, 144, 151, 152, 159, 166, 168, 169, 170, 171, 175, 184, 193, 194, 195, 197, 199, 204, 221, 223, 231, 233, 241, 242, 244, 246, 247, 253, 254, 257, 258, 260, 262, 266, 273, 274, 275, 277, 278, 282, 283, 286, 288, 289, 293, 294, 296, 297, 298, 299, 300, 302, 303, 305, 314, 316, 318, 330, 332, 334, 335, 340, 344, 348, 350, 353, 355, 356, 358, 368, 369, 370, 375, 380, 381, 382, 383, 386, 388, 391, 394, 397, 399, 400, 401, 411, 413, 416, 417, 420, 426, 434, 440, 458, 460, 465, 467, 472, 484, 485, 486, 490, 495, 498, 505, 508, 514, 520, 526, 534, 541, 542, 543, 544, 551, 558, 562, 567, 570, 579, 583, 584, 585, 586, 593, 595, 597, 598, 607, 610, 613, 614, 616, 619, 620, 621, 623, 625, 629, 633, 634, 638, 639, 643, 646, 649, 653, 658, 659, 660, 662, 663, 665, 666, 667, 668, 670, 671, 676, 685, 686, 688, 689, 692, 695, 700, 702, 710, 716, 717, 724, 725, 726, 729, 731, 732, 733, 734, 736, 738, 741, 742, 743, 748, 750, 751, 754, 755, 757, 761, 762, 772, 778, 779, 780, 781, 782, 785, 786, 788, 793, 794, 795, 800, 801, 802, 805, 813, 815, 817, 820, 821, 834, 835, 836, 839, 840, 843, 847, 848, 849, 850, 851, 853, 854, 857, 858, 860, 865, 871, 872, 874, 875, 876, 878, 880, 882, 883, 884, 885, 886, 889, 891, 899, 905, 922, 924, 947, 949, 950, 953, 954, 958, 959, 963, 964, 966, 967, 968, 969, 970, 972, 973, 975, 976, 981, 984, 995, 996, 1000, 1002, 1012, 1013, 1014, 1021, 1026, 1029, 1037, 1042, 1045, 1047, 1055, 1059, 1062, 1067, 1078, 1080, 1084, 1086, 1087, 1090, 1094, 1095, 1096, 1102, 1103, 1105, 1106, 1112, 1115, 1119, 1120, 1122, 1127, 1128, 1129, 1133, 1137, 1138])\n",
      "Length = 0\n"
     ]
    }
   ],
   "source": [
    "features_folder = \"../data/features\"\n",
    "\n",
    "raw_data = collect_raw_data(features_folder, prices)\n",
    "\n",
    "# list(prices.keys())\n",
    "# prices\n",
    "\n",
    "print_dict(raw_data)\n"
   ]
  },
  {
   "cell_type": "markdown",
   "metadata": {},
   "source": [
    "## Discarding most of the features and keeping only the interesting ones"
   ]
  },
  {
   "cell_type": "code",
   "execution_count": 28,
   "metadata": {},
   "outputs": [],
   "source": [
    "def preprocess_features(data_raw, keys_to_preprocess=[]):\n",
    "\n",
    "    data_clean = copy.copy(data_raw)\n",
    "    \n",
    "    if ('productionDate' in keys_to_preprocess):\n",
    "        data_clean['productionDate'] = int(data_raw['productionDate'])\n",
    "\n",
    "    if ('vehicleEngine' in  keys_to_preprocess):\n",
    "        data_clean['vehicleEngine'] = float(data_raw['vehicleEngine'][ : -5])\n",
    "\n",
    "    if ('Broj sedišta' in keys_to_preprocess):\n",
    "        data_clean['Broj sedišta'] = int(data_raw['Broj sedišta'].split(' ')[0])\n",
    "\n",
    "    if ('mileageFromOdometer' in keys_to_preprocess):\n",
    "        no_dots = re.sub(\"[^0-9]\", \"\", data_raw['mileageFromOdometer'][ : -4])\n",
    "        data_clean['mileageFromOdometer'] = float(no_dots)\n",
    "\n",
    "    if ('url' in keys_to_preprocess):\n",
    "        data_clean['url'] = data_raw['url'][46 : ]\n",
    "\n",
    "    return data_clean"
   ]
  },
  {
   "cell_type": "code",
   "execution_count": 21,
   "metadata": {},
   "outputs": [
    {
     "ename": "NameError",
     "evalue": "name 'raw_data' is not defined",
     "output_type": "error",
     "traceback": [
      "\u001b[0;31m---------------------------------------------------------------------------\u001b[0m",
      "\u001b[0;31mNameError\u001b[0m                                 Traceback (most recent call last)",
      "\u001b[0;32m<ipython-input-21-f0440e29e673>\u001b[0m in \u001b[0;36m<module>\u001b[0;34m\u001b[0m\n\u001b[1;32m      8\u001b[0m \u001b[0mkept_values\u001b[0m \u001b[0;34m=\u001b[0m \u001b[0;34m[\u001b[0m\u001b[0;34m]\u001b[0m\u001b[0;34m\u001b[0m\u001b[0;34m\u001b[0m\u001b[0m\n\u001b[1;32m      9\u001b[0m \u001b[0;34m\u001b[0m\u001b[0m\n\u001b[0;32m---> 10\u001b[0;31m \u001b[0;32mfor\u001b[0m \u001b[0mi\u001b[0m \u001b[0;32min\u001b[0m \u001b[0mrange\u001b[0m\u001b[0;34m(\u001b[0m\u001b[0mlen\u001b[0m\u001b[0;34m(\u001b[0m\u001b[0mraw_data\u001b[0m\u001b[0;34m)\u001b[0m\u001b[0;34m)\u001b[0m\u001b[0;34m:\u001b[0m\u001b[0;34m\u001b[0m\u001b[0;34m\u001b[0m\u001b[0m\n\u001b[0m\u001b[1;32m     11\u001b[0m \u001b[0;34m\u001b[0m\u001b[0m\n\u001b[1;32m     12\u001b[0m     \u001b[0mcurr_features_clean\u001b[0m \u001b[0;34m=\u001b[0m \u001b[0mpreprocess_features\u001b[0m\u001b[0;34m(\u001b[0m\u001b[0mraw_data\u001b[0m\u001b[0;34m[\u001b[0m\u001b[0mi\u001b[0m\u001b[0;34m]\u001b[0m\u001b[0;34m,\u001b[0m \u001b[0mkeys_to_preprocess\u001b[0m\u001b[0;34m)\u001b[0m\u001b[0;34m\u001b[0m\u001b[0;34m\u001b[0m\u001b[0m\n",
      "\u001b[0;31mNameError\u001b[0m: name 'raw_data' is not defined"
     ]
    }
   ],
   "source": [
    "keys_to_keep = [\n",
    "    'brand', 'productionDate', 'bodyType', 'fuelType', \n",
    "    'vehicleEngine', 'mileageFromOdometer', 'Broj sedišta', \n",
    "    'Oštećenje', 'Menjač', 'Klima', 'price'\n",
    "]\n",
    "\n",
    "keys_to_preprocess = ['productionDate', 'vehicleEngine', 'Broj sedišta', 'mileageFromOdometer']\n",
    "kept_values = []\n",
    "\n",
    "for i in range(len(raw_data)):\n",
    "    \n",
    "    curr_features_clean = preprocess_features(raw_data[i], keys_to_preprocess)\n",
    "    curr_features = [\n",
    "        curr_features_clean[key] for key in keys_to_keep\n",
    "    ] \n",
    "    \n",
    "    kept_values.append(curr_features)\n",
    "    \n",
    "# print(kept_values)\n",
    "# print_dict(curr_features_clean)\n",
    "\n",
    "df_raw = pd.DataFrame(kept_values, columns=keys_to_keep)\n",
    "df_raw.head()"
   ]
  },
  {
   "cell_type": "markdown",
   "metadata": {},
   "source": [
    "## Map "
   ]
  },
  {
   "cell_type": "code",
   "execution_count": 20,
   "metadata": {},
   "outputs": [
    {
     "ename": "NameError",
     "evalue": "name 'df_raw' is not defined",
     "output_type": "error",
     "traceback": [
      "\u001b[0;31m---------------------------------------------------------------------------\u001b[0m",
      "\u001b[0;31mNameError\u001b[0m                                 Traceback (most recent call last)",
      "\u001b[0;32m<ipython-input-20-79b7ac413344>\u001b[0m in \u001b[0;36m<module>\u001b[0;34m\u001b[0m\n\u001b[1;32m     58\u001b[0m     }\n\u001b[1;32m     59\u001b[0m \u001b[0;34m\u001b[0m\u001b[0m\n\u001b[0;32m---> 60\u001b[0;31m \u001b[0mdf_clean\u001b[0m \u001b[0;34m=\u001b[0m \u001b[0mdf_raw\u001b[0m\u001b[0;34m.\u001b[0m\u001b[0mreplace\u001b[0m\u001b[0;34m(\u001b[0m\u001b[0mto_replace\u001b[0m\u001b[0;34m)\u001b[0m\u001b[0;34m\u001b[0m\u001b[0;34m\u001b[0m\u001b[0m\n\u001b[0m\u001b[1;32m     61\u001b[0m \u001b[0mdf_clean\u001b[0m\u001b[0;34m.\u001b[0m\u001b[0mhead\u001b[0m\u001b[0;34m(\u001b[0m\u001b[0;34m)\u001b[0m\u001b[0;34m\u001b[0m\u001b[0;34m\u001b[0m\u001b[0m\n",
      "\u001b[0;31mNameError\u001b[0m: name 'df_raw' is not defined"
     ]
    }
   ],
   "source": [
    "# =======================================================================\n",
    "# == AC mapping ==\n",
    "\n",
    "AC_map = {'Nema klimu' : 0, 'Manuelna klima' : 1, 'Automatska klima' : 2}\n",
    "\n",
    "# =======================================================================\n",
    "# == Brands mapping ==\n",
    "\n",
    "brands_file = open('../data/brands.txt', 'r', encoding='UTF-8')\n",
    "brands_raw_str = brands_file.readline()\n",
    "brands_file.close()\n",
    "\n",
    "brands_raw = brands_raw_str.split('value=\"')[2 : ]\n",
    "brands_clean = [x.replace(\"</select>\", \"<option \")[ : -17].replace('\">', \"$\") for x in brands_raw]\n",
    "\n",
    "brands_map = {}\n",
    "for i, brand in enumerate(brands_clean):\n",
    "    key = brand.split('$')[1]\n",
    "    brands_map.update({key: i})\n",
    "    \n",
    "# =======================================================================\n",
    "# == Map bodyType  == \n",
    "\n",
    "body_map = {\n",
    "    'Limuzina' : 0, 'Hečbek' : 1, 'Karavan' : 2, 'Kupe' : 3, 'Kabriolet/Roadster' : 4, \n",
    "    'Monovolumen (MiniVan)' : 5, 'Džip/SUV' : 6, 'Pickup' : 7\n",
    "    }\n",
    "\n",
    "# =======================================================================\n",
    "# == Map fuelType ==\n",
    "\n",
    "fuel_map = {\n",
    "    'Benzin' : 0, 'Dizel' : 1, 'Metan CNG' : 2, 'Benzin + Gas (TNG)' : 3,\n",
    "    'Benzin + Metan (CNG)' : 4, 'Električni pogon' : 5, 'Hibridni pogon' : 6\n",
    "}\n",
    "\n",
    "# =======================================================================\n",
    "# == Map Oštećenje ==\n",
    "\n",
    "damage_map = {\n",
    "    'Nije oštećen' : 0, 'Oštećen - u voznom stanju' : 1,\n",
    "    'Oštećen - nije u voznom stanju' : 2\n",
    "    }\n",
    "\n",
    "# =======================================================================\n",
    "# == Map Menjač ==\n",
    "\n",
    "control_map = {\n",
    "    'Manuelni 4 brzine' : 0, 'Manuelni 5 brzina' : 1, \n",
    "    'Manuelni 6 brzina' : 2, 'Poluautomatski' : 3,\n",
    "    'Automatski / poluautomatski' : 4, 'Automatski' : 5\n",
    "}\n",
    "\n",
    "\n",
    "to_replace = {\n",
    "    \"Klima\" : AC_map, \"brand\" : brands_map, \"bodyType\" : body_map,\n",
    "    \"fuelType\" : fuel_map, \"Oštećenje\" : damage_map, \"Menjač\" : control_map\n",
    "    }\n",
    "\n",
    "df_clean = df_raw.replace(to_replace)\n",
    "df_clean.head()"
   ]
  },
  {
   "cell_type": "markdown",
   "metadata": {},
   "source": [
    "## Transform data to polynomial features"
   ]
  },
  {
   "cell_type": "code",
   "execution_count": 41,
   "metadata": {},
   "outputs": [],
   "source": [
    "data_np = df_clean.to_numpy()\n",
    "features_raw = data_np[ : , : -1]\n",
    "targets = data_np[ : , -1]\n",
    "\n",
    "# scaler = StandardScaler()\n",
    "# features = scaler.fit_transform(features_raw)\n",
    "\n",
    "features = features_raw"
   ]
  },
  {
   "cell_type": "code",
   "execution_count": 43,
   "metadata": {},
   "outputs": [
    {
     "data": {
      "text/plain": [
       "array([[1.00000e+00, 2.80000e+01, 2.00600e+03, 1.00000e+00, 1.00000e+00,\n",
       "        5.10000e+01, 1.79000e+05, 5.00000e+00, 0.00000e+00, 1.00000e+00,\n",
       "        1.00000e+00],\n",
       "       [1.00000e+00, 7.70000e+01, 2.02000e+03, 6.00000e+00, 0.00000e+00,\n",
       "        1.03000e+02, 5.00000e+00, 5.00000e+00, 0.00000e+00, 2.00000e+00,\n",
       "        2.00000e+00],\n",
       "       [1.00000e+00, 5.70000e+01, 2.01600e+03, 3.00000e+00, 1.00000e+00,\n",
       "        1.50000e+02, 1.97600e+05, 5.00000e+00, 0.00000e+00, 4.00000e+00,\n",
       "        2.00000e+00],\n",
       "       [1.00000e+00, 5.70000e+01, 2.01500e+03, 0.00000e+00, 1.00000e+00,\n",
       "        8.00000e+01, 1.48000e+05, 4.00000e+00, 0.00000e+00, 5.00000e+00,\n",
       "        2.00000e+00],\n",
       "       [1.00000e+00, 6.80000e+01, 2.00900e+03, 0.00000e+00, 1.00000e+00,\n",
       "        8.00000e+01, 1.88763e+05, 5.00000e+00, 0.00000e+00, 1.00000e+00,\n",
       "        2.00000e+00],\n",
       "       [1.00000e+00, 1.90000e+01, 2.00800e+03, 0.00000e+00, 1.00000e+00,\n",
       "        1.00000e+02, 1.92000e+05, 5.00000e+00, 0.00000e+00, 2.00000e+00,\n",
       "        2.00000e+00]])"
      ]
     },
     "execution_count": 43,
     "metadata": {},
     "output_type": "execute_result"
    }
   ],
   "source": [
    "degree = 1\n",
    "poly = PolynomialFeatures(degree)\n",
    "\n",
    "features_poly = poly.fit_transform(features)\n",
    "\n",
    "train_features, test_features, train_targets, test_targets = train_test_split(\n",
    "    features_poly, targets, test_size=0.33 \n",
    ")"
   ]
  },
  {
   "cell_type": "markdown",
   "metadata": {},
   "source": [
    "## Linear regression"
   ]
  },
  {
   "cell_type": "code",
   "execution_count": 51,
   "metadata": {},
   "outputs": [
    {
     "name": "stdout",
     "output_type": "stream",
     "text": [
      "PRED --  808000.0\n",
      "REAL --  808000.0\n",
      "\n",
      "\n",
      "\n",
      "PRED --  811237.0\n",
      "REAL --  811237.0\n",
      "\n",
      "\n",
      "\n",
      "PRED --  999995.0\n",
      "REAL --  999995.0\n",
      "\n",
      "\n",
      "\n",
      "PRED --  821000.0\n",
      "REAL --  821000.0\n",
      "\n",
      "\n",
      "\n"
     ]
    }
   ],
   "source": [
    "# Train\n",
    "linear_regressor = LinearRegression()\n",
    "linear_regressor.fit(train_features, train_targets)\n",
    "\n",
    "test_preds_lr = linear_regressor.predict(test_features)\n",
    "rmse_lr = mean_squared_error(test_targets, test_preds_lr, squared=False)\n",
    "\n",
    "print(\"LR RMSE -- \", rmse_lr)\n",
    "\n",
    "for i in range(min(len(train_preds), 10)):\n",
    "    print(\"PRED -- \", train_preds[i])\n",
    "    print(\"REAL -- \", train_targets[i])\n",
    "    print(\"\\n\\n\")\n",
    "\n",
    "# Test"
   ]
  },
  {
   "cell_type": "markdown",
   "metadata": {},
   "source": [
    "## K Nearest Neighbors"
   ]
  },
  {
   "cell_type": "code",
   "execution_count": 52,
   "metadata": {},
   "outputs": [
    {
     "data": {
      "text/html": [
       "<div>\n",
       "<style scoped>\n",
       "    .dataframe tbody tr th:only-of-type {\n",
       "        vertical-align: middle;\n",
       "    }\n",
       "\n",
       "    .dataframe tbody tr th {\n",
       "        vertical-align: top;\n",
       "    }\n",
       "\n",
       "    .dataframe thead th {\n",
       "        text-align: right;\n",
       "    }\n",
       "</style>\n",
       "<table border=\"1\" class=\"dataframe\">\n",
       "  <thead>\n",
       "    <tr style=\"text-align: right;\">\n",
       "      <th></th>\n",
       "      <th>brand</th>\n",
       "      <th>productionDate</th>\n",
       "      <th>bodyType</th>\n",
       "      <th>fuelType</th>\n",
       "      <th>vehicleEngine</th>\n",
       "      <th>mileageFromOdometer</th>\n",
       "      <th>Broj sedišta</th>\n",
       "      <th>Oštećenje</th>\n",
       "      <th>Menjač</th>\n",
       "      <th>Klima</th>\n",
       "      <th>price</th>\n",
       "    </tr>\n",
       "  </thead>\n",
       "  <tbody>\n",
       "    <tr>\n",
       "      <th>0</th>\n",
       "      <td>28</td>\n",
       "      <td>2006</td>\n",
       "      <td>1</td>\n",
       "      <td>1</td>\n",
       "      <td>51.0</td>\n",
       "      <td>179000.0</td>\n",
       "      <td>5</td>\n",
       "      <td>0</td>\n",
       "      <td>1</td>\n",
       "      <td>1</td>\n",
       "      <td>821000.0</td>\n",
       "    </tr>\n",
       "    <tr>\n",
       "      <th>1</th>\n",
       "      <td>77</td>\n",
       "      <td>2020</td>\n",
       "      <td>6</td>\n",
       "      <td>0</td>\n",
       "      <td>103.0</td>\n",
       "      <td>5.0</td>\n",
       "      <td>5</td>\n",
       "      <td>0</td>\n",
       "      <td>2</td>\n",
       "      <td>2</td>\n",
       "      <td>999995.0</td>\n",
       "    </tr>\n",
       "    <tr>\n",
       "      <th>2</th>\n",
       "      <td>57</td>\n",
       "      <td>2016</td>\n",
       "      <td>3</td>\n",
       "      <td>1</td>\n",
       "      <td>150.0</td>\n",
       "      <td>197600.0</td>\n",
       "      <td>5</td>\n",
       "      <td>0</td>\n",
       "      <td>4</td>\n",
       "      <td>2</td>\n",
       "      <td>802400.0</td>\n",
       "    </tr>\n",
       "    <tr>\n",
       "      <th>3</th>\n",
       "      <td>57</td>\n",
       "      <td>2015</td>\n",
       "      <td>0</td>\n",
       "      <td>1</td>\n",
       "      <td>80.0</td>\n",
       "      <td>148000.0</td>\n",
       "      <td>4</td>\n",
       "      <td>0</td>\n",
       "      <td>5</td>\n",
       "      <td>2</td>\n",
       "      <td>852000.0</td>\n",
       "    </tr>\n",
       "    <tr>\n",
       "      <th>4</th>\n",
       "      <td>68</td>\n",
       "      <td>2009</td>\n",
       "      <td>0</td>\n",
       "      <td>1</td>\n",
       "      <td>80.0</td>\n",
       "      <td>188763.0</td>\n",
       "      <td>5</td>\n",
       "      <td>0</td>\n",
       "      <td>1</td>\n",
       "      <td>2</td>\n",
       "      <td>811237.0</td>\n",
       "    </tr>\n",
       "    <tr>\n",
       "      <th>5</th>\n",
       "      <td>19</td>\n",
       "      <td>2008</td>\n",
       "      <td>0</td>\n",
       "      <td>1</td>\n",
       "      <td>100.0</td>\n",
       "      <td>192000.0</td>\n",
       "      <td>5</td>\n",
       "      <td>0</td>\n",
       "      <td>2</td>\n",
       "      <td>2</td>\n",
       "      <td>808000.0</td>\n",
       "    </tr>\n",
       "  </tbody>\n",
       "</table>\n",
       "</div>"
      ],
      "text/plain": [
       "   brand  productionDate  bodyType  fuelType  vehicleEngine  \\\n",
       "0     28            2006         1         1           51.0   \n",
       "1     77            2020         6         0          103.0   \n",
       "2     57            2016         3         1          150.0   \n",
       "3     57            2015         0         1           80.0   \n",
       "4     68            2009         0         1           80.0   \n",
       "5     19            2008         0         1          100.0   \n",
       "\n",
       "   mileageFromOdometer  Broj sedišta  Oštećenje  Menjač  Klima     price  \n",
       "0             179000.0             5          0       1      1  821000.0  \n",
       "1                  5.0             5          0       2      2  999995.0  \n",
       "2             197600.0             5          0       4      2  802400.0  \n",
       "3             148000.0             4          0       5      2  852000.0  \n",
       "4             188763.0             5          0       1      2  811237.0  \n",
       "5             192000.0             5          0       2      2  808000.0  "
      ]
     },
     "execution_count": 52,
     "metadata": {},
     "output_type": "execute_result"
    }
   ],
   "source": [
    "df_clean"
   ]
  },
  {
   "cell_type": "code",
   "execution_count": null,
   "metadata": {},
   "outputs": [
    {
     "name": "stdout",
     "output_type": "stream",
     "text": [
      "KNN RMSE --  8321.482870971675\n"
     ]
    }
   ],
   "source": [
    "N_neighbors = 4\n",
    "\n",
    "# Train\n",
    "knn = KNeighborsRegressor(n_neighbors=N_neighbors)\n",
    "knn.fit(train_features, train_targets)\n",
    "\n",
    "test_preds_knn = knn.predict(test_features)\n",
    "rmse_knn = mean_squared_error(test_targets, test_preds_knn, squared=False)\n",
    "\n",
    "print(\"KNN RMSE -- \", rmse_knn)\n",
    "\n",
    "for i in range(0):\n",
    "    print(\"PRED -- \", test_preds[i])\n",
    "    print(\"REAL -- \", test_targets[i])\n",
    "    print(\"\\n\\n\")\n",
    "\n",
    "# Test"
   ]
  }
 ],
 "metadata": {
  "kernelspec": {
   "display_name": "Python 3",
   "language": "python",
   "name": "python3"
  },
  "language_info": {
   "codemirror_mode": {
    "name": "ipython",
    "version": 3
   },
   "file_extension": ".py",
   "mimetype": "text/x-python",
   "name": "python",
   "nbconvert_exporter": "python",
   "pygments_lexer": "ipython3",
   "version": "3.6.9"
  }
 },
 "nbformat": 4,
 "nbformat_minor": 4
}
