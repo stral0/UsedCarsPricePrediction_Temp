{
 "metadata": {
  "language_info": {
   "codemirror_mode": {
    "name": "ipython",
    "version": 3
   },
   "file_extension": ".py",
   "mimetype": "text/x-python",
   "name": "python",
   "nbconvert_exporter": "python",
   "pygments_lexer": "ipython3",
   "version": "3.8.3"
  },
  "orig_nbformat": 2,
  "kernelspec": {
   "name": "python383jvsc74a57bd0793271b726a22ca96574d81a109f5c5fcf85b3bed39a651e9153aca0978d5e30",
   "display_name": "Python 3.8.3 64-bit ('base': conda)"
  }
 },
 "nbformat": 4,
 "nbformat_minor": 2,
 "cells": [
  {
   "cell_type": "code",
   "execution_count": 13,
   "metadata": {},
   "outputs": [
    {
     "output_type": "stream",
     "name": "stdout",
     "text": [
      "=== BASIC INFO ===\n dict_keys(['type', 'addressLocality', 'addressCountry', 'streetAddress', 'postalCode', 'telephone', 'name', 'image', 'logo', 'url', 'openingHours', 'latitude', 'longitude', 'priceRange', 'price', 'priceCurrency', 'description', 'vehicleEngine', 'value', 'unitCode', 'mileageFromOdometer', 'vehicleSeatingCapacity', 'productionDate', 'color', 'vehicleTransmission', 'bodyType', 'meetsEmissionStandard', 'numberOfDoors', 'manufacturer', 'steeringPosition', 'knownVehicleDamages', 'fuelType', 'brand', 'model', 'Plivajući zamajac', 'Emisiona klasa motora', 'Pogon', 'Menjač', 'Broj vrata', 'Broj sedišta', 'Strana volana', 'Klima', 'Boja', 'Materijal enterijera', 'Boja enterijera', 'Registrovan do', 'Poreklo vozila', 'Oštećenje', 'Zemlja uvoza'])\n\n=== ADDITIONAL INFO ===\n ['Airbag za vozača', 'Airbag za suvozača', 'Bočni airbag', 'ABS', 'ESP', 'ASR', 'Kodiran ključ', 'Blokada motora', 'Centralno zaključavanje', 'Automatsko kočenje', 'Vazdušni jastuci za kolena', 'Branici u boji auta', 'Servo volan', 'Multifunkcionalni volan', 'Tempomat', 'Daljinsko zaključavanje', 'Putni računar', 'Tonirana stakla', 'Električni podizači', 'Električni retrovizori', 'Grejači retrovizora', 'Sedišta podesiva po visini', 'Elektro podesiva sedišta', 'Svetla za maglu', 'Xenon svetla', 'Senzori za svetla', 'Senzori za kišu', 'Parking senzori', 'Aluminijumske felne', 'Navigacija', 'Bluetooth', 'Radio/Kasetofon', 'Radio CD', 'DVD/TV', 'LED prednja svetla', 'LED zadnja svetla', 'Naslon za ruku', 'Adaptivni tempomat', 'Kamera', 'Hands free', 'ISOFIX sistem', 'Multimedija', 'Elektro sklopivi retrovizori', 'DPF filter', 'Dnevna svetla', 'Kožni volan', 'Elektro zatvaranje prtljažnika', 'USB', 'Paljenje bez ključa', 'Subwoofer', 'MP3', 'Utičnica od 12V', 'Elektro otvaranje prtljažnika', 'Podešavanje volana po visini', 'Držači za čaše', 'Ručice za menjanje brzina na volanu', 'Indikator niskog pritiska u gumama', 'Elektronska ručna kočnica', 'Asistencija za kretanje na uzbrdici', 'Modovi vožnje']\n"
     ]
    }
   ],
   "source": [
    "import pickle\n",
    "import os \n",
    "import pandas as pd\n",
    "import numpy as np  \n",
    "import re\n",
    "import copy\n",
    "\n",
    "from sklearn.preprocessing import PolynomialFeatures\n",
    "from sklearn.linear_model import LinearRegression\n",
    "from sklearn.neighbors import KNeighborsRegressor\n",
    "from sklearn.model_selection import train_test_split\n",
    "from sklearn.metrics import mean_squared_error\n",
    "from sklearn.neural_network import MLPRegressor\n",
    "\n",
    "pickle_file = open(\"../data/features/car_number_2.pkl\", \"rb\")\n",
    "unpickled = pickle.load(pickle_file)\n",
    "\n",
    "basic_info = unpickled[0]\n",
    "basic_info.update(unpickled[1])\n",
    "additional_info = unpickled[2]\n",
    "\n",
    "print(\"=== BASIC INFO ===\\n\", basic_info.keys())\n",
    "print(\"\\n=== ADDITIONAL INFO ===\\n\", additional_info)"
   ]
  },
  {
   "source": [
    "## Collecting car features and unpickling them"
   ],
   "cell_type": "markdown",
   "metadata": {}
  },
  {
   "cell_type": "code",
   "execution_count": 2,
   "metadata": {},
   "outputs": [],
   "source": [
    "def generate_price(basic_info, scale=1e6):\n",
    "    \n",
    "    mileage_str_raw = basic_info['mileageFromOdometer'] \n",
    "    mileage_str = re.sub(\"[^0-9]\", \"\", mileage_str_raw[ : -4]) \n",
    "    # price = scale * 1 / (float(mileage_str) + 1)\n",
    "    # price = float(mileage_str)\n",
    "    price = scale - float(mileage_str)\n",
    "\n",
    "    return price\n",
    "\n",
    "\n",
    "def collect_prices(prices_path):\n",
    "    \n",
    "    pickle_file = open(prices_path, \"rb\")\n",
    "    prices_unpickled = pickle.load(pickle_file)\n",
    "\n",
    "    prices_dict = {}\n",
    "    for price_tuple in prices_unpickled:\n",
    "        idx = price_tuple[0]\n",
    "        value = re.sub(\"[^0-9]\", \"\", price_tuple[1])\n",
    "        if value == \"\":\n",
    "            continue \n",
    "        prices_dict.update({idx : int(value)})\n",
    "\n",
    "    return prices_dict\n",
    "\n",
    "\n",
    "def collect_raw_data(data_folder, prices):\n",
    "    \"\"\"\n",
    "    Returns a list where each element is a dictionary corresponding to a single car.\n",
    "\n",
    "    \"\"\"\n",
    "    \n",
    "    raw_data = []\n",
    "    file_names = os.listdir(data_folder)\n",
    "\n",
    "    # for file_name in file_names:\n",
    "    for car_idx in prices.keys():\n",
    "\n",
    "        file_name = f\"car_number_{car_idx}.pkl\"\n",
    "        if file_name not in file_names:\n",
    "            continue\n",
    "\n",
    "        file_path = os.path.join(data_folder, file_name)\n",
    "        pickle_file = open(file_path, \"rb\")\n",
    "        unpickled = pickle.load(pickle_file)\n",
    "\n",
    "        try:\n",
    "            basic_info = unpickled[0]\n",
    "            basic_info.update(unpickled[1])\n",
    "            additional_info = unpickled[2]\n",
    "        except(TypeError):\n",
    "            return raw_data\n",
    "\n",
    "        # price = generate_price(basic_info)\n",
    "        price = prices[car_idx]\n",
    "\n",
    "        basic_info.update({'price' : price})\n",
    "\n",
    "        raw_data.append(basic_info)\n",
    "\n",
    "    return raw_data"
   ]
  },
  {
   "cell_type": "code",
   "execution_count": 3,
   "metadata": {
    "tags": []
   },
   "outputs": [],
   "source": [
    "features_folder = \"../data/features\"\n",
    "prices_path = \"../data/prices.pkl\"\n",
    "\n",
    "prices = collect_prices(prices_path)\n",
    "raw_data = collect_raw_data(features_folder, prices)\n",
    "\n"
   ]
  },
  {
   "source": [
    "## Discarding most of the features and keeping only the interesting ones"
   ],
   "cell_type": "markdown",
   "metadata": {}
  },
  {
   "cell_type": "code",
   "execution_count": 4,
   "metadata": {},
   "outputs": [],
   "source": [
    "def preprocess_features(data_raw, keys_to_preprocess=[]):\n",
    "\n",
    "    data_clean = copy.copy(data_raw)\n",
    "    \n",
    "    if ('productionDate' in keys_to_preprocess):\n",
    "        data_clean['productionDate'] = int(data_raw['productionDate'])\n",
    "\n",
    "    if ('vehicleEngine' in  keys_to_preprocess):\n",
    "        data_clean['vehicleEngine'] = float(data_raw['vehicleEngine'][ : -5])\n",
    "\n",
    "    if ('Broj sedišta' in keys_to_preprocess):\n",
    "        data_clean['Broj sedišta'] = int(data_raw['Broj sedišta'].split(' ')[0])\n",
    "\n",
    "    if ('mileageFromOdometer' in keys_to_preprocess):\n",
    "        no_dots = re.sub(\"[^0-9]\", \"\", data_raw['mileageFromOdometer'][ : -4])\n",
    "        data_clean['mileageFromOdometer'] = float(no_dots)\n",
    "\n",
    "    return data_clean"
   ]
  },
  {
   "cell_type": "code",
   "execution_count": 7,
   "metadata": {},
   "outputs": [
    {
     "output_type": "execute_result",
     "data": {
      "text/plain": [
       "     brand  productionDate  bodyType fuelType  vehicleEngine  \\\n",
       "0  Peugeot            2009  Limuzina    Dizel           80.0   \n",
       "1  Renault            2015    Hečbek    Dizel           66.0   \n",
       "2   Nissan            2020  Džip/SUV    Dizel          110.0   \n",
       "3  Renault            2021    Hečbek   Benzin           48.0   \n",
       "4      Kia            2021  Džip/SUV   Benzin           97.0   \n",
       "\n",
       "   mileageFromOdometer  Broj sedišta     Oštećenje             Menjač  \\\n",
       "0             188763.0             5  Nije oštećen  Manuelni 5 brzina   \n",
       "1             160000.0             5  Nije oštećen  Manuelni 5 brzina   \n",
       "2                  0.0             7  Nije oštećen         Automatski   \n",
       "3                  5.0             4  Nije oštećen  Manuelni 5 brzina   \n",
       "4                  5.0             5  Nije oštećen  Manuelni 6 brzina   \n",
       "\n",
       "              Klima  price  \n",
       "0  Automatska klima  35990  \n",
       "1    Manuelna klima   2599  \n",
       "2  Automatska klima  13560  \n",
       "3  Automatska klima  19610  \n",
       "4    Manuelna klima  15850  "
      ],
      "text/html": "<div>\n<style scoped>\n    .dataframe tbody tr th:only-of-type {\n        vertical-align: middle;\n    }\n\n    .dataframe tbody tr th {\n        vertical-align: top;\n    }\n\n    .dataframe thead th {\n        text-align: right;\n    }\n</style>\n<table border=\"1\" class=\"dataframe\">\n  <thead>\n    <tr style=\"text-align: right;\">\n      <th></th>\n      <th>brand</th>\n      <th>productionDate</th>\n      <th>bodyType</th>\n      <th>fuelType</th>\n      <th>vehicleEngine</th>\n      <th>mileageFromOdometer</th>\n      <th>Broj sedišta</th>\n      <th>Oštećenje</th>\n      <th>Menjač</th>\n      <th>Klima</th>\n      <th>price</th>\n    </tr>\n  </thead>\n  <tbody>\n    <tr>\n      <th>0</th>\n      <td>Peugeot</td>\n      <td>2009</td>\n      <td>Limuzina</td>\n      <td>Dizel</td>\n      <td>80.0</td>\n      <td>188763.0</td>\n      <td>5</td>\n      <td>Nije oštećen</td>\n      <td>Manuelni 5 brzina</td>\n      <td>Automatska klima</td>\n      <td>35990</td>\n    </tr>\n    <tr>\n      <th>1</th>\n      <td>Renault</td>\n      <td>2015</td>\n      <td>Hečbek</td>\n      <td>Dizel</td>\n      <td>66.0</td>\n      <td>160000.0</td>\n      <td>5</td>\n      <td>Nije oštećen</td>\n      <td>Manuelni 5 brzina</td>\n      <td>Manuelna klima</td>\n      <td>2599</td>\n    </tr>\n    <tr>\n      <th>2</th>\n      <td>Nissan</td>\n      <td>2020</td>\n      <td>Džip/SUV</td>\n      <td>Dizel</td>\n      <td>110.0</td>\n      <td>0.0</td>\n      <td>7</td>\n      <td>Nije oštećen</td>\n      <td>Automatski</td>\n      <td>Automatska klima</td>\n      <td>13560</td>\n    </tr>\n    <tr>\n      <th>3</th>\n      <td>Renault</td>\n      <td>2021</td>\n      <td>Hečbek</td>\n      <td>Benzin</td>\n      <td>48.0</td>\n      <td>5.0</td>\n      <td>4</td>\n      <td>Nije oštećen</td>\n      <td>Manuelni 5 brzina</td>\n      <td>Automatska klima</td>\n      <td>19610</td>\n    </tr>\n    <tr>\n      <th>4</th>\n      <td>Kia</td>\n      <td>2021</td>\n      <td>Džip/SUV</td>\n      <td>Benzin</td>\n      <td>97.0</td>\n      <td>5.0</td>\n      <td>5</td>\n      <td>Nije oštećen</td>\n      <td>Manuelni 6 brzina</td>\n      <td>Manuelna klima</td>\n      <td>15850</td>\n    </tr>\n  </tbody>\n</table>\n</div>"
     },
     "metadata": {},
     "execution_count": 7
    }
   ],
   "source": [
    "keys_to_keep = [\n",
    "    'brand', 'productionDate', 'bodyType', 'fuelType', \n",
    "    'vehicleEngine', 'mileageFromOdometer', 'Broj sedišta', \n",
    "    'Oštećenje', 'Menjač', 'Klima', 'price'\n",
    "]\n",
    "\n",
    "keys_to_preprocess = ['productionDate', 'vehicleEngine', 'Broj sedišta', 'mileageFromOdometer']\n",
    "kept_values = []\n",
    "\n",
    "for i in range(len(raw_data)):\n",
    "    \n",
    "    curr_features_clean = preprocess_features(raw_data[i], keys_to_preprocess)\n",
    "    curr_features = [\n",
    "        curr_features_clean[key] for key in keys_to_keep\n",
    "    ] \n",
    "    \n",
    "    kept_values.append(curr_features)\n",
    "\n",
    "df_raw = pd.DataFrame(kept_values, columns=keys_to_keep)\n",
    "df_raw.head()"
   ]
  },
  {
   "source": [
    "## Map "
   ],
   "cell_type": "markdown",
   "metadata": {}
  },
  {
   "cell_type": "code",
   "execution_count": 8,
   "metadata": {},
   "outputs": [
    {
     "output_type": "execute_result",
     "data": {
      "text/plain": [
       "   brand  productionDate  bodyType  fuelType  vehicleEngine  \\\n",
       "0     68            2009         0         1           80.0   \n",
       "1     77            2015         1         1           66.0   \n",
       "2     63            2020         6         1          110.0   \n",
       "3     77            2021         1         0           48.0   \n",
       "4     43            2021         6         0           97.0   \n",
       "\n",
       "   mileageFromOdometer  Broj sedišta  Oštećenje  Menjač  Klima  price  \n",
       "0             188763.0             5          0       1      2  35990  \n",
       "1             160000.0             5          0       1      1   2599  \n",
       "2                  0.0             7          0       5      2  13560  \n",
       "3                  5.0             4          0       1      2  19610  \n",
       "4                  5.0             5          0       2      1  15850  "
      ],
      "text/html": "<div>\n<style scoped>\n    .dataframe tbody tr th:only-of-type {\n        vertical-align: middle;\n    }\n\n    .dataframe tbody tr th {\n        vertical-align: top;\n    }\n\n    .dataframe thead th {\n        text-align: right;\n    }\n</style>\n<table border=\"1\" class=\"dataframe\">\n  <thead>\n    <tr style=\"text-align: right;\">\n      <th></th>\n      <th>brand</th>\n      <th>productionDate</th>\n      <th>bodyType</th>\n      <th>fuelType</th>\n      <th>vehicleEngine</th>\n      <th>mileageFromOdometer</th>\n      <th>Broj sedišta</th>\n      <th>Oštećenje</th>\n      <th>Menjač</th>\n      <th>Klima</th>\n      <th>price</th>\n    </tr>\n  </thead>\n  <tbody>\n    <tr>\n      <th>0</th>\n      <td>68</td>\n      <td>2009</td>\n      <td>0</td>\n      <td>1</td>\n      <td>80.0</td>\n      <td>188763.0</td>\n      <td>5</td>\n      <td>0</td>\n      <td>1</td>\n      <td>2</td>\n      <td>35990</td>\n    </tr>\n    <tr>\n      <th>1</th>\n      <td>77</td>\n      <td>2015</td>\n      <td>1</td>\n      <td>1</td>\n      <td>66.0</td>\n      <td>160000.0</td>\n      <td>5</td>\n      <td>0</td>\n      <td>1</td>\n      <td>1</td>\n      <td>2599</td>\n    </tr>\n    <tr>\n      <th>2</th>\n      <td>63</td>\n      <td>2020</td>\n      <td>6</td>\n      <td>1</td>\n      <td>110.0</td>\n      <td>0.0</td>\n      <td>7</td>\n      <td>0</td>\n      <td>5</td>\n      <td>2</td>\n      <td>13560</td>\n    </tr>\n    <tr>\n      <th>3</th>\n      <td>77</td>\n      <td>2021</td>\n      <td>1</td>\n      <td>0</td>\n      <td>48.0</td>\n      <td>5.0</td>\n      <td>4</td>\n      <td>0</td>\n      <td>1</td>\n      <td>2</td>\n      <td>19610</td>\n    </tr>\n    <tr>\n      <th>4</th>\n      <td>43</td>\n      <td>2021</td>\n      <td>6</td>\n      <td>0</td>\n      <td>97.0</td>\n      <td>5.0</td>\n      <td>5</td>\n      <td>0</td>\n      <td>2</td>\n      <td>1</td>\n      <td>15850</td>\n    </tr>\n  </tbody>\n</table>\n</div>"
     },
     "metadata": {},
     "execution_count": 8
    }
   ],
   "source": [
    "# =======================================================================\n",
    "# == AC mapping ==\n",
    "\n",
    "AC_map = {'Nema klimu' : 0, 'Manuelna klima' : 1, 'Automatska klima' : 2}\n",
    "\n",
    "# =======================================================================\n",
    "# == Brands mapping ==\n",
    "\n",
    "brands_file = open('../data/brands.txt', 'r', encoding='UTF-8')\n",
    "brands_raw_str = brands_file.readline()\n",
    "brands_file.close()\n",
    "\n",
    "brands_raw = brands_raw_str.split('value=\"')[2 : ]\n",
    "brands_clean = [x.replace(\"</select>\", \"<option \")[ : -17].replace('\">', \"$\") for x in brands_raw]\n",
    "\n",
    "brands_map = {}\n",
    "for i, brand in enumerate(brands_clean):\n",
    "    key = brand.split('$')[1]\n",
    "    brands_map.update({key: i})\n",
    "\n",
    "# =======================================================================\n",
    "# == Map bodyType  == \n",
    "\n",
    "body_map = {\n",
    "    'Limuzina' : 0, 'Hečbek' : 1, 'Karavan' : 2, 'Kupe' : 3, 'Kabriolet/Roadster' : 4, \n",
    "    'Monovolumen (MiniVan)' : 5, 'Džip/SUV' : 6, 'Pickup' : 7\n",
    "    }\n",
    "\n",
    "# =======================================================================\n",
    "# == Map fuelType ==\n",
    "\n",
    "fuel_map = {\n",
    "    'Benzin' : 0, 'Dizel' : 1, 'Metan CNG' : 2, 'Benzin + Gas (TNG)' : 3,\n",
    "    'Benzin + Metan (CNG)' : 4, 'Električni pogon' : 5, 'Hibridni pogon' : 6\n",
    "}\n",
    "\n",
    "# =======================================================================\n",
    "# == Map Oštećenje ==\n",
    "\n",
    "damage_map = {\n",
    "    'Nije oštećen' : 0, 'Oštećen - u voznom stanju' : 1,\n",
    "    'Oštećen - nije u voznom stanju' : 2\n",
    "    }\n",
    "\n",
    "# =======================================================================\n",
    "# == Map Menjač ==\n",
    "\n",
    "control_map = {\n",
    "    'Manuelni 4 brzine' : 0, 'Manuelni 5 brzina' : 1, \n",
    "    'Manuelni 6 brzina' : 2, 'Poluautomatski' : 3,\n",
    "    'Automatski / poluautomatski' : 4, 'Automatski' : 5\n",
    "}\n",
    "\n",
    "\n",
    "to_replace = {\n",
    "    \"Klima\" : AC_map, \"brand\" : brands_map, \"bodyType\" : body_map,\n",
    "    \"fuelType\" : fuel_map, \"Oštećenje\" : damage_map, \"Menjač\" : control_map\n",
    "    }\n",
    "\n",
    "df_clean = df_raw.replace(to_replace)\n",
    "df_clean.head()"
   ]
  },
  {
   "source": [
    "## Transform data to polynomial features"
   ],
   "cell_type": "markdown",
   "metadata": {}
  },
  {
   "cell_type": "code",
   "execution_count": 9,
   "metadata": {},
   "outputs": [],
   "source": [
    "data_np = df_clean.to_numpy()\n",
    "features = data_np[ : , : -1]\n",
    "targets = data_np[ : , -1]"
   ]
  },
  {
   "cell_type": "code",
   "execution_count": 10,
   "metadata": {},
   "outputs": [],
   "source": [
    "degree = 1\n",
    "poly = PolynomialFeatures(degree)\n",
    "\n",
    "features_poly = poly.fit_transform(features)\n",
    "\n",
    "train_features, test_features, train_targets, test_targets = train_test_split(\n",
    "    features_poly, targets, test_size=0.33 \n",
    ")"
   ]
  },
  {
   "source": [
    "## Linear regression"
   ],
   "cell_type": "markdown",
   "metadata": {}
  },
  {
   "cell_type": "code",
   "execution_count": 38,
   "metadata": {},
   "outputs": [
    {
     "output_type": "stream",
     "name": "stdout",
     "text": [
      "LR RMSE --  10453.1860857016\n"
     ]
    }
   ],
   "source": [
    "# Train\n",
    "linear_regressor = LinearRegression()\n",
    "linear_regressor.fit(train_features, train_targets)\n",
    "\n",
    "test_preds_lr = linear_regressor.predict(test_features)\n",
    "rmse_lr = mean_squared_error(test_targets, test_preds_lr, squared=False)\n",
    "\n",
    "print(\"LR RMSE -- \", rmse_lr)\n",
    "\n",
    "for i in range(0):\n",
    "    print(\"PRED -- \", test_preds[i])\n",
    "    print(\"REAL -- \", test_targets[i])\n",
    "    print(\"\\n\\n\")\n",
    "\n",
    "# Test"
   ]
  },
  {
   "source": [
    "## K Nearest Neighbors"
   ],
   "cell_type": "markdown",
   "metadata": {}
  },
  {
   "cell_type": "code",
   "execution_count": 36,
   "metadata": {},
   "outputs": [
    {
     "output_type": "stream",
     "name": "stdout",
     "text": [
      "KNN RMSE --  10921.407457223086\n"
     ]
    }
   ],
   "source": [
    "N_neighbors = 4\n",
    "\n",
    "# Train\n",
    "knn = KNeighborsRegressor(n_neighbors=N_neighbors)\n",
    "knn.fit(train_features, train_targets)\n",
    "\n",
    "test_preds_knn = knn.predict(test_features)\n",
    "rmse_knn = mean_squared_error(test_targets, test_preds_knn, squared=False)\n",
    "\n",
    "print(\"KNN RMSE -- \", rmse_knn)\n",
    "\n",
    "for i in range(0):\n",
    "    print(\"PRED -- \", test_preds[i])\n",
    "    print(\"REAL -- \", test_targets[i])\n",
    "    print(\"\\n\\n\")\n",
    "\n",
    "# Test"
   ]
  },
  {
   "source": [
    "## Multi-Layer Perceptron"
   ],
   "cell_type": "markdown",
   "metadata": {}
  },
  {
   "cell_type": "code",
   "execution_count": 37,
   "metadata": {},
   "outputs": [
    {
     "output_type": "stream",
     "name": "stdout",
     "text": [
      "MLP RMSE --  26002253109410.38\n"
     ]
    }
   ],
   "source": [
    "# Train\n",
    "mlp = MLPRegressor(\n",
    "    solver='sgd', max_iter=int(10000), activation='relu', \n",
    "    learning_rate_init=0.0001\n",
    "    )\n",
    "mlp.fit(train_features, train_targets)\n",
    "\n",
    "test_preds_mlp = mlp.predict(test_features)\n",
    "rmse_mlp = mean_squared_error(test_targets, test_preds_mlp, squared=False)\n",
    "\n",
    "print(\"MLP RMSE -- \", rmse_mlp)"
   ]
  }
 ]
}