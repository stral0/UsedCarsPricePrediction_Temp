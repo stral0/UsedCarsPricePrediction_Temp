{
 "metadata": {
  "language_info": {
   "codemirror_mode": {
    "name": "ipython",
    "version": 3
   },
   "file_extension": ".py",
   "mimetype": "text/x-python",
   "name": "python",
   "nbconvert_exporter": "python",
   "pygments_lexer": "ipython3",
   "version": "3.8.5"
  },
  "orig_nbformat": 2,
  "kernelspec": {
   "name": "python385jvsc74a57bd070cbbe5b39d130addcea3c4fc57f4d76616ef0b4bfe4c80da86e87db80ce99bd",
   "display_name": "Python 3.8.5 64-bit ('base': conda)"
  }
 },
 "nbformat": 4,
 "nbformat_minor": 2,
 "cells": [
  {
   "cell_type": "code",
   "execution_count": 24,
   "metadata": {},
   "outputs": [
    {
     "output_type": "stream",
     "name": "stdout",
     "text": [
      "=== BASIC INFO ===\n dict_keys(['url', 'image', 'brand', 'model', 'manufacturer', 'productionDate', 'fuelType', 'bodyType', 'vehicleEngine', 'mileageFromOdometer', 'name', 'Plivajući zamajac', 'Emisiona klasa motora', 'Pogon', 'Menjač', 'Broj vrata', 'Broj sedišta', 'Strana volana', 'Klima', 'Boja', 'Materijal enterijera', 'Boja enterijera', 'Registrovan do', 'Poreklo vozila', 'Oštećenje'])\n\n=== ADDITIONAL INFO ===\n ['Airbag za vozača', 'Airbag za suvozača', 'Bočni airbag', 'ABS', 'ESP', 'Kodiran ključ', 'Blokada motora', 'Centralno zaključavanje', 'Metalik boja', 'Branici u boji auta', 'Servo volan', 'Multifunkcionalni volan', 'Tempomat', 'Daljinsko zaključavanje', 'Putni računar', 'Tonirana stakla', 'Električni podizači', 'Električni retrovizori', 'Sedišta podesiva po visini', 'Svetla za maglu', 'Senzori za svetla', 'Senzori za kišu', 'Parking senzori', 'Aluminijumske felne', 'Navigacija', 'Radio CD', 'Naslon za ruku', 'Hands free', 'Kožni volan', 'MP3', 'Utičnica od 12V', 'Otvor za skije', 'Podešavanje volana po visini', 'Držači za čaše', 'Rezervni točak']\n"
     ]
    }
   ],
   "source": [
    "import pickle\n",
    "import os \n",
    "\n",
    "pickle_file = open(\"data/car_number_1.pkl\", \"rb\")\n",
    "unpickled = pickle.load(pickle_file)\n",
    "\n",
    "basic_info = unpickled[0]\n",
    "basic_info.update(unpickled[1])\n",
    "additional_info = unpickled[2]\n",
    "\n",
    "print(\"=== BASIC INFO ===\\n\", basic_info.keys())\n",
    "print(\"\\n=== ADDITIONAL INFO ===\\n\", additional_info)"
   ]
  },
  {
   "cell_type": "code",
   "execution_count": 41,
   "metadata": {},
   "outputs": [],
   "source": [
    "def generate_price(basic_info, scale=1e6):\n",
    "    \n",
    "    mileage_str_raw = basic_info['mileageFromOdometer'] \n",
    "    mileage_str = mileage_str_raw[ : -5]\n",
    "    mileage = float(mileage_str)\n",
    "\n",
    "    return mileage\n",
    "\n",
    "\n",
    "raw_data = []\n",
    "\n",
    "data_folder = \"data\"\n",
    "file_names = os.listdir(data_folder)\n",
    "\n",
    "for file_name in file_names:\n",
    "\n",
    "    file_path = os.path.join(data_folder, file_name)git\n",
    "    pickle_file = open(file_path, \"rb\")\n",
    "    unpickled = pickle.load(pickle_file)\n",
    "\n",
    "    basic_info = unpickled[0]\n",
    "    basic_info.update(unpickled[1])\n",
    "    additional_info = unpickled[2]\n",
    "\n",
    "    price = generate_price(basic_info)\n",
    "\n",
    "    raw_data.append({\n",
    "        'features': basic_info,\n",
    "        'price': price \n",
    "        })\n",
    "\n",
    "    break\n",
    "\n",
    "raw_data"
   ]
  }
 ]
}