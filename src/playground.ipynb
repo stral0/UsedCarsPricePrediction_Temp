{
 "metadata": {
  "language_info": {
   "codemirror_mode": {
    "name": "ipython",
    "version": 3
   },
   "file_extension": ".py",
   "mimetype": "text/x-python",
   "name": "python",
   "nbconvert_exporter": "python",
   "pygments_lexer": "ipython3",
   "version": "3.8.5"
  },
  "orig_nbformat": 2,
  "kernelspec": {
   "name": "python385jvsc74a57bd070cbbe5b39d130addcea3c4fc57f4d76616ef0b4bfe4c80da86e87db80ce99bd",
   "display_name": "Python 3.8.5 64-bit ('base': conda)"
  }
 },
 "nbformat": 4,
 "nbformat_minor": 2,
 "cells": [
  {
   "cell_type": "code",
   "execution_count": 1,
   "metadata": {},
   "outputs": [
    {
     "output_type": "stream",
     "name": "stdout",
     "text": [
      "=== BASIC INFO ===\n dict_keys(['type', 'addressLocality', 'addressCountry', 'streetAddress', 'postalCode', 'telephone', 'name', 'image', 'logo', 'url', 'openingHours', 'latitude', 'longitude', 'priceRange', 'price', 'priceCurrency', 'description', 'vehicleEngine', 'value', 'unitCode', 'mileageFromOdometer', 'vehicleSeatingCapacity', 'productionDate', 'color', 'vehicleTransmission', 'bodyType', 'meetsEmissionStandard', 'numberOfDoors', 'manufacturer', 'steeringPosition', 'knownVehicleDamages', 'fuelType', 'brand', 'model', 'Plivajući zamajac', 'Emisiona klasa motora', 'Pogon', 'Menjač', 'Broj vrata', 'Broj sedišta', 'Strana volana', 'Klima', 'Boja', 'Materijal enterijera', 'Boja enterijera', 'Registrovan do', 'Poreklo vozila', 'Oštećenje', 'Zemlja uvoza'])\n\n=== ADDITIONAL INFO ===\n ['Airbag za vozača', 'Airbag za suvozača', 'Bočni airbag', 'ABS', 'ESP', 'ASR', 'Kodiran ključ', 'Blokada motora', 'Centralno zaključavanje', 'Automatsko kočenje', 'Vazdušni jastuci za kolena', 'Branici u boji auta', 'Servo volan', 'Multifunkcionalni volan', 'Tempomat', 'Daljinsko zaključavanje', 'Putni računar', 'Tonirana stakla', 'Električni podizači', 'Električni retrovizori', 'Grejači retrovizora', 'Sedišta podesiva po visini', 'Elektro podesiva sedišta', 'Svetla za maglu', 'Xenon svetla', 'Senzori za svetla', 'Senzori za kišu', 'Parking senzori', 'Aluminijumske felne', 'Navigacija', 'Bluetooth', 'Radio/Kasetofon', 'Radio CD', 'DVD/TV', 'LED prednja svetla', 'LED zadnja svetla', 'Naslon za ruku', 'Adaptivni tempomat', 'Kamera', 'Hands free', 'ISOFIX sistem', 'Multimedija', 'Elektro sklopivi retrovizori', 'DPF filter', 'Dnevna svetla', 'Kožni volan', 'Elektro zatvaranje prtljažnika', 'USB', 'Paljenje bez ključa', 'Subwoofer', 'MP3', 'Utičnica od 12V', 'Elektro otvaranje prtljažnika', 'Podešavanje volana po visini', 'Držači za čaše', 'Ručice za menjanje brzina na volanu', 'Indikator niskog pritiska u gumama', 'Elektronska ručna kočnica', 'Asistencija za kretanje na uzbrdici', 'Modovi vožnje']\n"
     ]
    }
   ],
   "source": [
    "import pickle\n",
    "import os \n",
    "import pandas as pd \n",
    "import re\n",
    "import copy\n",
    "\n",
    "pickle_file = open(\"../data/features/car_number_2.pkl\", \"rb\")\n",
    "unpickled = pickle.load(pickle_file)\n",
    "\n",
    "basic_info = unpickled[0]\n",
    "basic_info.update(unpickled[1])\n",
    "additional_info = unpickled[2]\n",
    "\n",
    "print(\"=== BASIC INFO ===\\n\", basic_info.keys())\n",
    "print(\"\\n=== ADDITIONAL INFO ===\\n\", additional_info)"
   ]
  },
  {
   "source": [
    "## Collecting car features and unpickling them"
   ],
   "cell_type": "markdown",
   "metadata": {}
  },
  {
   "cell_type": "code",
   "execution_count": 2,
   "metadata": {},
   "outputs": [],
   "source": [
    "def generate_price(basic_info, scale=1e6):\n",
    "    \n",
    "    mileage_str_raw = basic_info['mileageFromOdometer'] \n",
    "    mileage_str = re.sub(\"[^0-9]\", \"\", mileage_str_raw[ : -4]) \n",
    "    mileage = scale * 1 / (float(mileage_str) + 1)\n",
    "\n",
    "    return mileage\n",
    "\n",
    "\n",
    "\n",
    "def collect_raw_data(data_folder, max_samples=1000):\n",
    "    \"\"\"\n",
    "    Returns a list where each element is a dictionary corresponding to a single car.\n",
    "\n",
    "    \"\"\"\n",
    "    \n",
    "    raw_data = []\n",
    "    file_names = os.listdir(data_folder)\n",
    "\n",
    "    for i, file_name in enumerate(file_names):\n",
    "        \n",
    "        if i >= max_samples:\n",
    "            break \n",
    "\n",
    "        file_path = os.path.join(data_folder, file_name)\n",
    "        pickle_file = open(file_path, \"rb\")\n",
    "        unpickled = pickle.load(pickle_file)\n",
    "\n",
    "        basic_info = unpickled[0]\n",
    "        basic_info.update(unpickled[1])\n",
    "        additional_info = unpickled[2]\n",
    "\n",
    "        price = generate_price(basic_info)\n",
    "\n",
    "        basic_info.update({'price' : price})\n",
    "\n",
    "        raw_data.append(basic_info)\n",
    "\n",
    "    return raw_data"
   ]
  },
  {
   "cell_type": "code",
   "execution_count": 3,
   "metadata": {},
   "outputs": [
    {
     "output_type": "stream",
     "name": "stdout",
     "text": [
      "{'url': 'https://www.polovniautomobili.com/auto-oglasi/17942149/peugeot-407-16hdi-restajling ,', 'image': 'https://hcdn.polovniautomobili.com/user-images/thumbs/1794/17942149/a05cf0dd4a24.jpg-800x600.jpg ,', 'brand': 'Peugeot', 'model': '407', 'manufacturer': 'Peugeot', 'productionDate': '2009', 'fuelType': 'Dizel', 'bodyType': 'Limuzina', 'vehicleEngine': '80.00 KWT', 'mileageFromOdometer': '188.763 KMT', 'name': 'Peugeot 407 16HDI RESTAJLING', 'Plivajući zamajac': 'Sa plivajućim zamajcem', 'Emisiona klasa motora': 'Euro 4', 'Pogon': 'Prednji', 'Menjač': 'Manuelni 5 brzina', 'Broj vrata': '4/5 vrata', 'Broj sedišta': '5 sedišta', 'Strana volana': 'Levi volan', 'Klima': 'Automatska klima', 'Boja': 'Braon', 'Materijal enterijera': 'Štof', 'Boja enterijera': 'Crna', 'Registrovan do': 'Nije registrovan', 'Poreklo vozila': 'Na ime kupca', 'Oštećenje': 'Nije oštećen', 'price': 5.2976203089572165}\n"
     ]
    }
   ],
   "source": [
    "data_folder = \"../data/features\"\n",
    "num_samples = 100\n",
    "\n",
    "raw_data = collect_raw_data(data_folder, num_samples)\n",
    "\n",
    "print(raw_data[0])"
   ]
  },
  {
   "source": [
    "## Discarding most of the features and keeping only the interesting ones"
   ],
   "cell_type": "markdown",
   "metadata": {}
  },
  {
   "cell_type": "code",
   "execution_count": 19,
   "metadata": {},
   "outputs": [],
   "source": [
    "def preprocess_features(data_raw, keys_to_preprocess=[]):\n",
    "\n",
    "    data_clean = copy.copy(data_raw)\n",
    "    \n",
    "    if ('productionDate' in keys_to_preprocess):\n",
    "        data_clean['productionDate'] = int(data_raw['productionDate'])\n",
    "\n",
    "    if ('vehicleEngine' in  keys_to_preprocess):\n",
    "        data_clean['vehicleEngine'] = float(data_raw['vehicleEngine'][ : -5])\n",
    "\n",
    "    if ('Broj sedišta' in keys_to_preprocess):\n",
    "        data_clean['Broj sedišta'] = int(data_raw['Broj sedišta'].split(' ')[0])\n",
    "\n",
    "    return data_clean"
   ]
  },
  {
   "cell_type": "code",
   "execution_count": 21,
   "metadata": {},
   "outputs": [
    {
     "output_type": "execute_result",
     "data": {
      "text/plain": [
       "         brand  productionDate               bodyType fuelType  vehicleEngine  \\\n",
       "0      Peugeot            2009               Limuzina    Dizel           80.0   \n",
       "1      Renault            2020               Džip/SUV   Benzin          103.0   \n",
       "2          BMW            2010               Džip/SUV    Dizel          130.0   \n",
       "3   Volkswagen            2005               Limuzina    Dizel           77.0   \n",
       "4      Peugeot            2016                Karavan    Dizel           88.0   \n",
       "..         ...             ...                    ...      ...            ...   \n",
       "95       Škoda            2016                 Hečbek    Dizel           81.0   \n",
       "96        Audi            2008                Karavan    Dizel          171.0   \n",
       "97  Volkswagen            2015                Karavan    Dizel           88.0   \n",
       "98     Citroen            2012                 Hečbek    Dizel           68.0   \n",
       "99       Škoda            2007  Monovolumen (MiniVan)    Dizel           77.0   \n",
       "\n",
       "    Broj sedišta     Oštećenje             Menjač             Klima  \n",
       "0              5  Nije oštećen  Manuelni 5 brzina  Automatska klima  \n",
       "1              5  Nije oštećen  Manuelni 6 brzina  Automatska klima  \n",
       "2              5  Nije oštećen         Automatski  Automatska klima  \n",
       "3              5  Nije oštećen  Manuelni 5 brzina  Automatska klima  \n",
       "4              5  Nije oštećen  Manuelni 6 brzina  Automatska klima  \n",
       "..           ...           ...                ...               ...  \n",
       "95             5  Nije oštećen         Automatski  Automatska klima  \n",
       "96             5  Nije oštećen         Automatski  Automatska klima  \n",
       "97             5  Nije oštećen         Automatski  Automatska klima  \n",
       "98             5  Nije oštećen  Manuelni 5 brzina  Automatska klima  \n",
       "99             5  Nije oštećen  Manuelni 5 brzina  Automatska klima  \n",
       "\n",
       "[100 rows x 9 columns]"
      ],
      "text/html": "<div>\n<style scoped>\n    .dataframe tbody tr th:only-of-type {\n        vertical-align: middle;\n    }\n\n    .dataframe tbody tr th {\n        vertical-align: top;\n    }\n\n    .dataframe thead th {\n        text-align: right;\n    }\n</style>\n<table border=\"1\" class=\"dataframe\">\n  <thead>\n    <tr style=\"text-align: right;\">\n      <th></th>\n      <th>brand</th>\n      <th>productionDate</th>\n      <th>bodyType</th>\n      <th>fuelType</th>\n      <th>vehicleEngine</th>\n      <th>Broj sedišta</th>\n      <th>Oštećenje</th>\n      <th>Menjač</th>\n      <th>Klima</th>\n    </tr>\n  </thead>\n  <tbody>\n    <tr>\n      <th>0</th>\n      <td>Peugeot</td>\n      <td>2009</td>\n      <td>Limuzina</td>\n      <td>Dizel</td>\n      <td>80.0</td>\n      <td>5</td>\n      <td>Nije oštećen</td>\n      <td>Manuelni 5 brzina</td>\n      <td>Automatska klima</td>\n    </tr>\n    <tr>\n      <th>1</th>\n      <td>Renault</td>\n      <td>2020</td>\n      <td>Džip/SUV</td>\n      <td>Benzin</td>\n      <td>103.0</td>\n      <td>5</td>\n      <td>Nije oštećen</td>\n      <td>Manuelni 6 brzina</td>\n      <td>Automatska klima</td>\n    </tr>\n    <tr>\n      <th>2</th>\n      <td>BMW</td>\n      <td>2010</td>\n      <td>Džip/SUV</td>\n      <td>Dizel</td>\n      <td>130.0</td>\n      <td>5</td>\n      <td>Nije oštećen</td>\n      <td>Automatski</td>\n      <td>Automatska klima</td>\n    </tr>\n    <tr>\n      <th>3</th>\n      <td>Volkswagen</td>\n      <td>2005</td>\n      <td>Limuzina</td>\n      <td>Dizel</td>\n      <td>77.0</td>\n      <td>5</td>\n      <td>Nije oštećen</td>\n      <td>Manuelni 5 brzina</td>\n      <td>Automatska klima</td>\n    </tr>\n    <tr>\n      <th>4</th>\n      <td>Peugeot</td>\n      <td>2016</td>\n      <td>Karavan</td>\n      <td>Dizel</td>\n      <td>88.0</td>\n      <td>5</td>\n      <td>Nije oštećen</td>\n      <td>Manuelni 6 brzina</td>\n      <td>Automatska klima</td>\n    </tr>\n    <tr>\n      <th>...</th>\n      <td>...</td>\n      <td>...</td>\n      <td>...</td>\n      <td>...</td>\n      <td>...</td>\n      <td>...</td>\n      <td>...</td>\n      <td>...</td>\n      <td>...</td>\n    </tr>\n    <tr>\n      <th>95</th>\n      <td>Škoda</td>\n      <td>2016</td>\n      <td>Hečbek</td>\n      <td>Dizel</td>\n      <td>81.0</td>\n      <td>5</td>\n      <td>Nije oštećen</td>\n      <td>Automatski</td>\n      <td>Automatska klima</td>\n    </tr>\n    <tr>\n      <th>96</th>\n      <td>Audi</td>\n      <td>2008</td>\n      <td>Karavan</td>\n      <td>Dizel</td>\n      <td>171.0</td>\n      <td>5</td>\n      <td>Nije oštećen</td>\n      <td>Automatski</td>\n      <td>Automatska klima</td>\n    </tr>\n    <tr>\n      <th>97</th>\n      <td>Volkswagen</td>\n      <td>2015</td>\n      <td>Karavan</td>\n      <td>Dizel</td>\n      <td>88.0</td>\n      <td>5</td>\n      <td>Nije oštećen</td>\n      <td>Automatski</td>\n      <td>Automatska klima</td>\n    </tr>\n    <tr>\n      <th>98</th>\n      <td>Citroen</td>\n      <td>2012</td>\n      <td>Hečbek</td>\n      <td>Dizel</td>\n      <td>68.0</td>\n      <td>5</td>\n      <td>Nije oštećen</td>\n      <td>Manuelni 5 brzina</td>\n      <td>Automatska klima</td>\n    </tr>\n    <tr>\n      <th>99</th>\n      <td>Škoda</td>\n      <td>2007</td>\n      <td>Monovolumen (MiniVan)</td>\n      <td>Dizel</td>\n      <td>77.0</td>\n      <td>5</td>\n      <td>Nije oštećen</td>\n      <td>Manuelni 5 brzina</td>\n      <td>Automatska klima</td>\n    </tr>\n  </tbody>\n</table>\n<p>100 rows × 9 columns</p>\n</div>"
     },
     "metadata": {},
     "execution_count": 21
    }
   ],
   "source": [
    "keys_to_keep = [\n",
    "    'brand', 'productionDate', 'bodyType', 'fuelType', \n",
    "    'vehicleEngine', 'Broj sedišta', 'Oštećenje',\n",
    "    'Menjač', 'Klima', \n",
    "]\n",
    "\n",
    "keys_to_preprocess = ['productionDate', 'vehicleEngine', 'Broj sedišta']\n",
    "kept_values = []\n",
    "\n",
    "for i in range(len(raw_data)):\n",
    "    \n",
    "    curr_features_clean = preprocess_features(raw_data[i], keys_to_preprocess)\n",
    "    curr_features = [\n",
    "        curr_features_clean[key] for key in keys_to_keep\n",
    "    ] \n",
    "    \n",
    "    kept_values.append(curr_features)\n",
    "\n",
    "df_raw = pd.DataFrame(kept_values, columns=keys_to_keep)\n",
    "df_raw"
   ]
  },
  {
   "source": [
    "## Map "
   ],
   "cell_type": "markdown",
   "metadata": {}
  },
  {
   "cell_type": "code",
   "execution_count": 38,
   "metadata": {},
   "outputs": [
    {
     "output_type": "execute_result",
     "data": {
      "text/plain": [
       "   brand  productionDate  bodyType  fuelType  vehicleEngine  Broj sedišta  \\\n",
       "0     68            2009         0         1           80.0             5   \n",
       "1     77            2020         6         0          103.0             5   \n",
       "2     11            2010         6         1          130.0             5   \n",
       "3     99            2005         0         1           77.0             5   \n",
       "4     68            2016         2         1           88.0             5   \n",
       "\n",
       "   Oštećenje  Menjač  Klima  \n",
       "0          0       1      2  \n",
       "1          0       2      2  \n",
       "2          0       5      2  \n",
       "3          0       1      2  \n",
       "4          0       2      2  "
      ],
      "text/html": "<div>\n<style scoped>\n    .dataframe tbody tr th:only-of-type {\n        vertical-align: middle;\n    }\n\n    .dataframe tbody tr th {\n        vertical-align: top;\n    }\n\n    .dataframe thead th {\n        text-align: right;\n    }\n</style>\n<table border=\"1\" class=\"dataframe\">\n  <thead>\n    <tr style=\"text-align: right;\">\n      <th></th>\n      <th>brand</th>\n      <th>productionDate</th>\n      <th>bodyType</th>\n      <th>fuelType</th>\n      <th>vehicleEngine</th>\n      <th>Broj sedišta</th>\n      <th>Oštećenje</th>\n      <th>Menjač</th>\n      <th>Klima</th>\n    </tr>\n  </thead>\n  <tbody>\n    <tr>\n      <th>0</th>\n      <td>68</td>\n      <td>2009</td>\n      <td>0</td>\n      <td>1</td>\n      <td>80.0</td>\n      <td>5</td>\n      <td>0</td>\n      <td>1</td>\n      <td>2</td>\n    </tr>\n    <tr>\n      <th>1</th>\n      <td>77</td>\n      <td>2020</td>\n      <td>6</td>\n      <td>0</td>\n      <td>103.0</td>\n      <td>5</td>\n      <td>0</td>\n      <td>2</td>\n      <td>2</td>\n    </tr>\n    <tr>\n      <th>2</th>\n      <td>11</td>\n      <td>2010</td>\n      <td>6</td>\n      <td>1</td>\n      <td>130.0</td>\n      <td>5</td>\n      <td>0</td>\n      <td>5</td>\n      <td>2</td>\n    </tr>\n    <tr>\n      <th>3</th>\n      <td>99</td>\n      <td>2005</td>\n      <td>0</td>\n      <td>1</td>\n      <td>77.0</td>\n      <td>5</td>\n      <td>0</td>\n      <td>1</td>\n      <td>2</td>\n    </tr>\n    <tr>\n      <th>4</th>\n      <td>68</td>\n      <td>2016</td>\n      <td>2</td>\n      <td>1</td>\n      <td>88.0</td>\n      <td>5</td>\n      <td>0</td>\n      <td>2</td>\n      <td>2</td>\n    </tr>\n  </tbody>\n</table>\n</div>"
     },
     "metadata": {},
     "execution_count": 38
    }
   ],
   "source": [
    "# =======================================================================\n",
    "# == AC mapping ==\n",
    "\n",
    "AC_map = {'Nema klimu' : 0, 'Manuelna klima' : 1, 'Automatska klima' : 2}\n",
    "\n",
    "# =======================================================================\n",
    "# == Brands mapping ==\n",
    "\n",
    "brands_file = open('../data/brands.txt', 'r', encoding='UTF-8')\n",
    "brands_raw_str = brands_file.readline()\n",
    "brands_file.close()\n",
    "\n",
    "brands_raw = brands_raw_str.split('value=\"')[2 : ]\n",
    "brands_clean = [x.replace(\"</select>\", \"<option \")[ : -17].replace('\">', \"$\") for x in brands_raw]\n",
    "\n",
    "brands_map = {}\n",
    "for i, brand in enumerate(brands_clean):\n",
    "    key = brand.split('$')[1]\n",
    "    brands_map.update({key: i})\n",
    "\n",
    "# =======================================================================\n",
    "# == Map bodyType  == \n",
    "\n",
    "body_map = {\n",
    "    'Limuzina' : 0, 'Hečbek' : 1, 'Karavan' : 2, 'Kupe' : 3, 'Kabriolet/Roadster' : 4, \n",
    "    'Monovolumen (MiniVan)' : 5, 'Džip/SUV' : 6, 'Pickup' : 7\n",
    "    }\n",
    "\n",
    "# =======================================================================\n",
    "# == Map fuelType ==\n",
    "\n",
    "fuel_map = {\n",
    "    'Benzin' : 0, 'Dizel' : 1, 'Benzin + Gas (TNG)' : 2,\n",
    "    'Benzin + Metan (CNG)' : 3, 'Električni pogon' : 4, 'Hibridni pogon' : 5\n",
    "}\n",
    "\n",
    "# =======================================================================\n",
    "# == Map Oštećenje ==\n",
    "\n",
    "damage_map = {\n",
    "    'Nije oštećen' : 0, 'Oštećen - u voznom stanju' : 1,\n",
    "    'Oštećen - nije u voznom stanju' : 2\n",
    "    }\n",
    "\n",
    "# =======================================================================\n",
    "# == Map Menjač ==\n",
    "\n",
    "control_map = {\n",
    "    'Manuelni 4 brzine' : 0, 'Manuelni 5 brzina' : 1, \n",
    "    'Manuelni 6 brzina' : 2, 'Poluautomatski' : 3,\n",
    "    'Automatski / poluautomatski' : 4, 'Automatski' : 5\n",
    "}\n",
    "\n",
    "\n",
    "to_replace = {\n",
    "    \"Klima\" : AC_map, \"brand\" : brands_map, \"bodyType\" : body_map,\n",
    "    \"fuelType\" : fuel_map, \"Oštećenje\" : damage_map, \"Menjač\" : control_map\n",
    "    }\n",
    "\n",
    "df_clean = df_raw.replace(to_replace)\n",
    "df_clean.head()"
   ]
  }
 ]
}