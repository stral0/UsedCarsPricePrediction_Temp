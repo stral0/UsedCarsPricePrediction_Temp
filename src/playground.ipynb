{
 "metadata": {
  "language_info": {
   "codemirror_mode": {
    "name": "ipython",
    "version": 3
   },
   "file_extension": ".py",
   "mimetype": "text/x-python",
   "name": "python",
   "nbconvert_exporter": "python",
   "pygments_lexer": "ipython3",
   "version": "3.8.3"
  },
  "orig_nbformat": 2,
  "kernelspec": {
   "name": "python383jvsc74a57bd0793271b726a22ca96574d81a109f5c5fcf85b3bed39a651e9153aca0978d5e30",
   "display_name": "Python 3.8.3 64-bit ('base': conda)"
  }
 },
 "nbformat": 4,
 "nbformat_minor": 2,
 "cells": [
  {
   "cell_type": "code",
   "execution_count": 2,
   "metadata": {},
   "outputs": [
    {
     "output_type": "stream",
     "name": "stdout",
     "text": [
      "=== BASIC INFO ===\n dict_keys(['url', 'image', 'brand', 'model', 'manufacturer', 'productionDate', 'fuelType', 'bodyType', 'vehicleEngine', 'mileageFromOdometer', 'name', 'Plivajući zamajac', 'Emisiona klasa motora', 'Pogon', 'Menjač', 'Broj vrata', 'Broj sedišta', 'Strana volana', 'Klima', 'Boja', 'Materijal enterijera', 'Boja enterijera', 'Registrovan do', 'Poreklo vozila', 'Oštećenje'])\n\n=== ADDITIONAL INFO ===\n ['Airbag za vozača', 'Airbag za suvozača', 'Bočni airbag', 'ABS', 'ESP', 'Kodiran ključ', 'Blokada motora', 'Centralno zaključavanje', 'Metalik boja', 'Branici u boji auta', 'Servo volan', 'Multifunkcionalni volan', 'Tempomat', 'Daljinsko zaključavanje', 'Putni računar', 'Tonirana stakla', 'Električni podizači', 'Električni retrovizori', 'Sedišta podesiva po visini', 'Svetla za maglu', 'Senzori za svetla', 'Senzori za kišu', 'Parking senzori', 'Aluminijumske felne', 'Navigacija', 'Radio CD', 'Naslon za ruku', 'Hands free', 'Kožni volan', 'MP3', 'Utičnica od 12V', 'Otvor za skije', 'Podešavanje volana po visini', 'Držači za čaše', 'Rezervni točak']\n"
     ]
    }
   ],
   "source": [
    "import pickle\n",
    "import os \n",
    "import pandas as pd \n",
    "\n",
    "pickle_file = open(\"../data/car_number_1.pkl\", \"rb\")\n",
    "unpickled = pickle.load(pickle_file)\n",
    "\n",
    "basic_info = unpickled[0]\n",
    "basic_info.update(unpickled[1])\n",
    "additional_info = unpickled[2]\n",
    "\n",
    "print(\"=== BASIC INFO ===\\n\", basic_info.keys())\n",
    "print(\"\\n=== ADDITIONAL INFO ===\\n\", additional_info)"
   ]
  },
  {
   "cell_type": "code",
   "execution_count": 3,
   "metadata": {},
   "outputs": [],
   "source": [
    "def generate_price(basic_info, scale=1e6):\n",
    "    \n",
    "    mileage_str_raw = basic_info['mileageFromOdometer'] \n",
    "    mileage_str = mileage_str_raw[ : -4]\n",
    "    mileage = scale * 1 / float(mileage_str)\n",
    "\n",
    "    return mileage\n",
    "\n",
    "\n",
    "\n",
    "def collect_raw_data(data_folder, max_samples=1000):\n",
    "\n",
    "    raw_data = []\n",
    "    file_names = os.listdir(data_folder)\n",
    "\n",
    "    for i, file_name in enumerate(file_names):\n",
    "        \n",
    "        if i >= max_samples:\n",
    "            break \n",
    "\n",
    "        file_path = os.path.join(data_folder, file_name)\n",
    "        pickle_file = open(file_path, \"rb\")\n",
    "        unpickled = pickle.load(pickle_file)\n",
    "\n",
    "        basic_info = unpickled[0]\n",
    "        basic_info.update(unpickled[1])\n",
    "        additional_info = unpickled[2]\n",
    "\n",
    "        price = generate_price(basic_info)\n",
    "\n",
    "        raw_data.append({\n",
    "            'features': basic_info,\n",
    "            'price': price \n",
    "            })\n",
    "\n",
    "    return raw_data"
   ]
  },
  {
   "cell_type": "code",
   "execution_count": 5,
   "metadata": {},
   "outputs": [],
   "source": [
    "data_folder = \"../data\"\n",
    "\n",
    "raw_data = collect_raw_data(data_folder)\n",
    "# raw_data"
   ]
  },
  {
   "cell_type": "code",
   "execution_count": 6,
   "metadata": {},
   "outputs": [
    {
     "output_type": "execute_result",
     "data": {
      "text/plain": [
       "dict_keys(['url', 'image', 'brand', 'model', 'manufacturer', 'productionDate', 'fuelType', 'bodyType', 'vehicleEngine', 'mileageFromOdometer', 'name', 'Plivajući zamajac', 'Emisiona klasa motora', 'Pogon', 'Menjač', 'Broj vrata', 'Broj sedišta', 'Strana volana', 'Klima', 'Boja', 'Materijal enterijera', 'Boja enterijera', 'Registrovan do', 'Poreklo vozila', 'Oštećenje'])"
      ]
     },
     "metadata": {},
     "execution_count": 6
    }
   ],
   "source": [
    "keys_to_keep = [\n",
    "    'brand', 'productionDate', 'bodyType', 'fuelType', \n",
    "    'vehicleEngine', 'Broj sedišta', 'Oštećenje',\n",
    "    'Menjač', 'Klima'\n",
    "]\n",
    "raw_data[0]['features'].keys()"
   ]
  },
  {
   "cell_type": "code",
   "execution_count": 11,
   "metadata": {},
   "outputs": [
    {
     "output_type": "execute_result",
     "data": {
      "text/plain": [
       "           brand productionDate  bodyType fuelType vehicleEngine Broj sedišta  \\\n",
       "0        Peugeot           2009  Limuzina    Dizel     80.00 KWT    5 sedišta   \n",
       "1        Renault           2020  Džip/SUV   Benzin    103.00 KWT    5 sedišta   \n",
       "2  Mercedes Benz           2015  Limuzina    Dizel     80.00 KWT    4 sedišta   \n",
       "3           Fiat           2006    Hečbek    Dizel     51.00 KWT    5 sedišta   \n",
       "\n",
       "      Oštećenje             Menjač             Klima          price  \n",
       "0  Nije oštećen  Manuelni 5 brzina  Automatska klima    5297.648374  \n",
       "1  Nije oštećen  Manuelni 6 brzina  Automatska klima  200000.000000  \n",
       "2  Nije oštećen         Automatski  Automatska klima    6756.756757  \n",
       "3  Nije oštećen  Manuelni 5 brzina    Manuelna klima    5586.592179  "
      ],
      "text/html": "<div>\n<style scoped>\n    .dataframe tbody tr th:only-of-type {\n        vertical-align: middle;\n    }\n\n    .dataframe tbody tr th {\n        vertical-align: top;\n    }\n\n    .dataframe thead th {\n        text-align: right;\n    }\n</style>\n<table border=\"1\" class=\"dataframe\">\n  <thead>\n    <tr style=\"text-align: right;\">\n      <th></th>\n      <th>brand</th>\n      <th>productionDate</th>\n      <th>bodyType</th>\n      <th>fuelType</th>\n      <th>vehicleEngine</th>\n      <th>Broj sedišta</th>\n      <th>Oštećenje</th>\n      <th>Menjač</th>\n      <th>Klima</th>\n      <th>price</th>\n    </tr>\n  </thead>\n  <tbody>\n    <tr>\n      <th>0</th>\n      <td>Peugeot</td>\n      <td>2009</td>\n      <td>Limuzina</td>\n      <td>Dizel</td>\n      <td>80.00 KWT</td>\n      <td>5 sedišta</td>\n      <td>Nije oštećen</td>\n      <td>Manuelni 5 brzina</td>\n      <td>Automatska klima</td>\n      <td>5297.648374</td>\n    </tr>\n    <tr>\n      <th>1</th>\n      <td>Renault</td>\n      <td>2020</td>\n      <td>Džip/SUV</td>\n      <td>Benzin</td>\n      <td>103.00 KWT</td>\n      <td>5 sedišta</td>\n      <td>Nije oštećen</td>\n      <td>Manuelni 6 brzina</td>\n      <td>Automatska klima</td>\n      <td>200000.000000</td>\n    </tr>\n    <tr>\n      <th>2</th>\n      <td>Mercedes Benz</td>\n      <td>2015</td>\n      <td>Limuzina</td>\n      <td>Dizel</td>\n      <td>80.00 KWT</td>\n      <td>4 sedišta</td>\n      <td>Nije oštećen</td>\n      <td>Automatski</td>\n      <td>Automatska klima</td>\n      <td>6756.756757</td>\n    </tr>\n    <tr>\n      <th>3</th>\n      <td>Fiat</td>\n      <td>2006</td>\n      <td>Hečbek</td>\n      <td>Dizel</td>\n      <td>51.00 KWT</td>\n      <td>5 sedišta</td>\n      <td>Nije oštećen</td>\n      <td>Manuelni 5 brzina</td>\n      <td>Manuelna klima</td>\n      <td>5586.592179</td>\n    </tr>\n  </tbody>\n</table>\n</div>"
     },
     "metadata": {},
     "execution_count": 11
    }
   ],
   "source": [
    "# key = 'model'\n",
    "values_to_keep = []\n",
    "\n",
    "for i in range(4):\n",
    "    \n",
    "    curr_features = [\n",
    "        raw_data[i]['features'][key] for key in keys_to_keep\n",
    "    ] \n",
    "\n",
    "    curr_features.append(raw_data[i]['price'])\n",
    "    \n",
    "    values_to_keep.append(curr_features)\n",
    "\n",
    "df = pd.DataFrame(values_to_keep, columns=keys_to_keep+['price'])\n",
    "df"
   ]
  }
 ]
}