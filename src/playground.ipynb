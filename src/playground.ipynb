{
 "metadata": {
  "language_info": {
   "codemirror_mode": {
    "name": "ipython",
    "version": 3
   },
   "file_extension": ".py",
   "mimetype": "text/x-python",
   "name": "python",
   "nbconvert_exporter": "python",
   "pygments_lexer": "ipython3",
   "version": "3.8.5"
  },
  "orig_nbformat": 2,
  "kernelspec": {
   "name": "python385jvsc74a57bd070cbbe5b39d130addcea3c4fc57f4d76616ef0b4bfe4c80da86e87db80ce99bd",
   "display_name": "Python 3.8.5 64-bit ('base': conda)"
  }
 },
 "nbformat": 4,
 "nbformat_minor": 2,
 "cells": [
  {
   "cell_type": "code",
   "execution_count": 1,
   "metadata": {},
   "outputs": [],
   "source": [
    "import pickle\n",
    "import os \n",
    "import pandas as pd\n",
    "import numpy as np  \n",
    "import re\n",
    "import copy\n",
    "\n",
    "from sklearn.preprocessing import PolynomialFeatures\n",
    "from sklearn.linear_model import LinearRegression\n",
    "from sklearn.neighbors import KNeighborsRegressor\n",
    "from sklearn.model_selection import train_test_split\n",
    "from sklearn.metrics import mean_squared_error\n",
    "from sklearn.neural_network import MLPRegressor\n",
    "from sklearn.preprocessing import StandardScaler\n",
    "\n",
    "# idx = 10\n",
    "# for id in [1, 10, 14, 15]:\n",
    "#     pickle_file = open(f\"../data/features/car_number_{id + 1}.pkl\", \"rb\") ##### offset is 1\n",
    "#     unpickled = pickle.load(pickle_file)\n",
    "\n",
    "#     basic_info = unpickled[0]\n",
    "#     basic_info.update(unpickled[1])\n",
    "#     additional_info = unpickled[2]\n",
    "\n",
    "#     if 'price' in basic_info:\n",
    "#         print(id, basic_info['price'])\n",
    "    # print(prices[id])\n",
    "# print(\"=== BASIC INFO ===\\n\", basic_info.keys())\n",
    "# print(\"\\n=== ADDITIONAL INFO ===\\n\", additional_info)"
   ]
  },
  {
   "source": [
    "## Collecting car features and unpickling them"
   ],
   "cell_type": "markdown",
   "metadata": {}
  },
  {
   "cell_type": "code",
   "execution_count": 2,
   "metadata": {},
   "outputs": [],
   "source": [
    "def generate_price(basic_info, scale=1e6):\n",
    "    \n",
    "    mileage_str_raw = basic_info['mileageFromOdometer'] \n",
    "    mileage_str = re.sub(\"[^0-9]\", \"\", mileage_str_raw[ : -4]) \n",
    "    # price = scale * 1 / (float(mileage_str) + 1)\n",
    "    # price = float(mileage_str)\n",
    "    price = scale - float(mileage_str)\n",
    "\n",
    "    return price\n",
    "\n",
    "\n",
    "def collect_prices(prices_path):\n",
    "    \n",
    "    pickle_file = open(prices_path, \"rb\")\n",
    "    prices_unpickled = pickle.load(pickle_file)\n",
    "\n",
    "    prices_dict = {}\n",
    "    for price_tuple in prices_unpickled:\n",
    "        idx = price_tuple[0]\n",
    "        value = re.sub(\"[^0-9]\", \"\", price_tuple[1])\n",
    "        if value == \"\":\n",
    "            continue \n",
    "        prices_dict.update({idx : int(value)})\n",
    "\n",
    "    return prices_dict\n",
    "\n",
    "\n",
    "def collect_raw_data(data_folder, prices):\n",
    "    \"\"\"\n",
    "    Returns a list where each element is a dictionary corresponding to a single car.\n",
    "\n",
    "    \"\"\"\n",
    "    \n",
    "    raw_data = []\n",
    "    file_names = os.listdir(data_folder)\n",
    "\n",
    "    # for file_name in file_names:\n",
    "    for car_idx in prices.keys():\n",
    "\n",
    "        file_name = f\"car_number_{car_idx + 1}.pkl\"\n",
    "        if file_name not in file_names:\n",
    "            continue\n",
    "\n",
    "        file_path = os.path.join(data_folder, file_name)\n",
    "        pickle_file = open(file_path, \"rb\")\n",
    "        unpickled = pickle.load(pickle_file)\n",
    "\n",
    "        try:\n",
    "            basic_info = unpickled[0]\n",
    "            basic_info.update(unpickled[1])\n",
    "            additional_info = unpickled[2]\n",
    "        except(TypeError):\n",
    "            return raw_data\n",
    "\n",
    "\n",
    "        # print(file_name)\n",
    "        # print(f\"{car_idx} -- {prices[car_idx]}\\n\\n\")\n",
    "        # print(file_path)\n",
    "        # print(basic_info)\n",
    "\n",
    "        # price = generate_price(basic_info)\n",
    "        price = prices[car_idx]\n",
    "\n",
    "        basic_info.update({'price' : price})\n",
    "\n",
    "        raw_data.append(basic_info)\n",
    "\n",
    "    return raw_data"
   ]
  },
  {
   "cell_type": "code",
   "execution_count": 3,
   "metadata": {
    "tags": []
   },
   "outputs": [],
   "source": [
    "features_folder = \"../data/features\"\n",
    "prices_path = \"../data/prices_1000.pkl\"\n",
    "\n",
    "prices = collect_prices(prices_path)\n",
    "raw_data = collect_raw_data(features_folder, prices)\n",
    "\n",
    "# list(prices.keys())\n",
    "# prices\n",
    "\n",
    "# prices = {1 : 35990}"
   ]
  },
  {
   "source": [
    "## Discarding most of the features and keeping only the interesting ones"
   ],
   "cell_type": "markdown",
   "metadata": {}
  },
  {
   "cell_type": "code",
   "execution_count": 4,
   "metadata": {},
   "outputs": [],
   "source": [
    "def preprocess_features(data_raw, keys_to_preprocess=[]):\n",
    "\n",
    "    data_clean = copy.copy(data_raw)\n",
    "    \n",
    "    if ('productionDate' in keys_to_preprocess):\n",
    "        data_clean['productionDate'] = int(data_raw['productionDate'])\n",
    "\n",
    "    if ('vehicleEngine' in  keys_to_preprocess):\n",
    "        data_clean['vehicleEngine'] = float(data_raw['vehicleEngine'][ : -5])\n",
    "\n",
    "    if ('Broj sedišta' in keys_to_preprocess):\n",
    "        data_clean['Broj sedišta'] = int(data_raw['Broj sedišta'].split(' ')[0])\n",
    "\n",
    "    if ('mileageFromOdometer' in keys_to_preprocess):\n",
    "        no_dots = re.sub(\"[^0-9]\", \"\", data_raw['mileageFromOdometer'][ : -4])\n",
    "        data_clean['mileageFromOdometer'] = float(no_dots)\n",
    "\n",
    "    if ('url' in keys_to_preprocess):\n",
    "        data_clean['url'] = data_raw['url'][46 : ]\n",
    "\n",
    "    return data_clean"
   ]
  },
  {
   "cell_type": "code",
   "execution_count": 5,
   "metadata": {},
   "outputs": [
    {
     "output_type": "execute_result",
     "data": {
      "text/plain": [
       "           brand  productionDate               bodyType              fuelType  \\\n",
       "0  Mercedes Benz            2016                   Kupe                 Dizel   \n",
       "1        Renault            2020               Džip/SUV                Benzin   \n",
       "2  Mercedes Benz            2015               Limuzina                 Dizel   \n",
       "3           Fiat            2005  Monovolumen (MiniVan)  Benzin + Metan (CNG)   \n",
       "4     Land Rover            2004               Džip/SUV                 Dizel   \n",
       "\n",
       "   vehicleEngine  mileageFromOdometer  Broj sedišta     Oštećenje  \\\n",
       "0          150.0             197600.0             5  Nije oštećen   \n",
       "1          103.0                  5.0             5  Nije oštećen   \n",
       "2           80.0             148000.0             4  Nije oštećen   \n",
       "3           76.0             179000.0             6  Nije oštećen   \n",
       "4           82.0             193000.0             5  Nije oštećen   \n",
       "\n",
       "                        Menjač             Klima  price  \n",
       "0  Automatski / poluautomatski  Automatska klima  35990  \n",
       "1            Manuelni 6 brzina  Automatska klima  20690  \n",
       "2                   Automatski  Automatska klima  16500  \n",
       "3            Manuelni 5 brzina    Manuelna klima   2199  \n",
       "4            Manuelni 5 brzina    Manuelna klima   3599  "
      ],
      "text/html": "<div>\n<style scoped>\n    .dataframe tbody tr th:only-of-type {\n        vertical-align: middle;\n    }\n\n    .dataframe tbody tr th {\n        vertical-align: top;\n    }\n\n    .dataframe thead th {\n        text-align: right;\n    }\n</style>\n<table border=\"1\" class=\"dataframe\">\n  <thead>\n    <tr style=\"text-align: right;\">\n      <th></th>\n      <th>brand</th>\n      <th>productionDate</th>\n      <th>bodyType</th>\n      <th>fuelType</th>\n      <th>vehicleEngine</th>\n      <th>mileageFromOdometer</th>\n      <th>Broj sedišta</th>\n      <th>Oštećenje</th>\n      <th>Menjač</th>\n      <th>Klima</th>\n      <th>price</th>\n    </tr>\n  </thead>\n  <tbody>\n    <tr>\n      <th>0</th>\n      <td>Mercedes Benz</td>\n      <td>2016</td>\n      <td>Kupe</td>\n      <td>Dizel</td>\n      <td>150.0</td>\n      <td>197600.0</td>\n      <td>5</td>\n      <td>Nije oštećen</td>\n      <td>Automatski / poluautomatski</td>\n      <td>Automatska klima</td>\n      <td>35990</td>\n    </tr>\n    <tr>\n      <th>1</th>\n      <td>Renault</td>\n      <td>2020</td>\n      <td>Džip/SUV</td>\n      <td>Benzin</td>\n      <td>103.0</td>\n      <td>5.0</td>\n      <td>5</td>\n      <td>Nije oštećen</td>\n      <td>Manuelni 6 brzina</td>\n      <td>Automatska klima</td>\n      <td>20690</td>\n    </tr>\n    <tr>\n      <th>2</th>\n      <td>Mercedes Benz</td>\n      <td>2015</td>\n      <td>Limuzina</td>\n      <td>Dizel</td>\n      <td>80.0</td>\n      <td>148000.0</td>\n      <td>4</td>\n      <td>Nije oštećen</td>\n      <td>Automatski</td>\n      <td>Automatska klima</td>\n      <td>16500</td>\n    </tr>\n    <tr>\n      <th>3</th>\n      <td>Fiat</td>\n      <td>2005</td>\n      <td>Monovolumen (MiniVan)</td>\n      <td>Benzin + Metan (CNG)</td>\n      <td>76.0</td>\n      <td>179000.0</td>\n      <td>6</td>\n      <td>Nije oštećen</td>\n      <td>Manuelni 5 brzina</td>\n      <td>Manuelna klima</td>\n      <td>2199</td>\n    </tr>\n    <tr>\n      <th>4</th>\n      <td>Land Rover</td>\n      <td>2004</td>\n      <td>Džip/SUV</td>\n      <td>Dizel</td>\n      <td>82.0</td>\n      <td>193000.0</td>\n      <td>5</td>\n      <td>Nije oštećen</td>\n      <td>Manuelni 5 brzina</td>\n      <td>Manuelna klima</td>\n      <td>3599</td>\n    </tr>\n  </tbody>\n</table>\n</div>"
     },
     "metadata": {},
     "execution_count": 5
    }
   ],
   "source": [
    "keys_to_keep = [\n",
    "    'brand', 'productionDate', 'bodyType', 'fuelType', \n",
    "    'vehicleEngine', 'mileageFromOdometer', 'Broj sedišta', \n",
    "    'Oštećenje', 'Menjač', 'Klima', 'price'\n",
    "]\n",
    "\n",
    "keys_to_preprocess = ['productionDate', 'vehicleEngine', 'Broj sedišta', 'mileageFromOdometer']\n",
    "kept_values = []\n",
    "\n",
    "for i in range(len(raw_data)):\n",
    "    \n",
    "    curr_features_clean = preprocess_features(raw_data[i], keys_to_preprocess)\n",
    "    curr_features = [\n",
    "        curr_features_clean[key] for key in keys_to_keep\n",
    "    ] \n",
    "    \n",
    "    kept_values.append(curr_features)\n",
    "\n",
    "df_raw = pd.DataFrame(kept_values, columns=keys_to_keep)\n",
    "df_raw.head()"
   ]
  },
  {
   "source": [
    "## Map "
   ],
   "cell_type": "markdown",
   "metadata": {}
  },
  {
   "cell_type": "code",
   "execution_count": 6,
   "metadata": {},
   "outputs": [
    {
     "output_type": "execute_result",
     "data": {
      "text/plain": [
       "   brand  productionDate  bodyType  fuelType  vehicleEngine  \\\n",
       "0     57            2016         3         1          150.0   \n",
       "1     77            2020         6         0          103.0   \n",
       "2     57            2015         0         1           80.0   \n",
       "3     28            2005         5         4           76.0   \n",
       "4     48            2004         6         1           82.0   \n",
       "\n",
       "   mileageFromOdometer  Broj sedišta  Oštećenje  Menjač  Klima  price  \n",
       "0             197600.0             5          0       4      2  35990  \n",
       "1                  5.0             5          0       2      2  20690  \n",
       "2             148000.0             4          0       5      2  16500  \n",
       "3             179000.0             6          0       1      1   2199  \n",
       "4             193000.0             5          0       1      1   3599  "
      ],
      "text/html": "<div>\n<style scoped>\n    .dataframe tbody tr th:only-of-type {\n        vertical-align: middle;\n    }\n\n    .dataframe tbody tr th {\n        vertical-align: top;\n    }\n\n    .dataframe thead th {\n        text-align: right;\n    }\n</style>\n<table border=\"1\" class=\"dataframe\">\n  <thead>\n    <tr style=\"text-align: right;\">\n      <th></th>\n      <th>brand</th>\n      <th>productionDate</th>\n      <th>bodyType</th>\n      <th>fuelType</th>\n      <th>vehicleEngine</th>\n      <th>mileageFromOdometer</th>\n      <th>Broj sedišta</th>\n      <th>Oštećenje</th>\n      <th>Menjač</th>\n      <th>Klima</th>\n      <th>price</th>\n    </tr>\n  </thead>\n  <tbody>\n    <tr>\n      <th>0</th>\n      <td>57</td>\n      <td>2016</td>\n      <td>3</td>\n      <td>1</td>\n      <td>150.0</td>\n      <td>197600.0</td>\n      <td>5</td>\n      <td>0</td>\n      <td>4</td>\n      <td>2</td>\n      <td>35990</td>\n    </tr>\n    <tr>\n      <th>1</th>\n      <td>77</td>\n      <td>2020</td>\n      <td>6</td>\n      <td>0</td>\n      <td>103.0</td>\n      <td>5.0</td>\n      <td>5</td>\n      <td>0</td>\n      <td>2</td>\n      <td>2</td>\n      <td>20690</td>\n    </tr>\n    <tr>\n      <th>2</th>\n      <td>57</td>\n      <td>2015</td>\n      <td>0</td>\n      <td>1</td>\n      <td>80.0</td>\n      <td>148000.0</td>\n      <td>4</td>\n      <td>0</td>\n      <td>5</td>\n      <td>2</td>\n      <td>16500</td>\n    </tr>\n    <tr>\n      <th>3</th>\n      <td>28</td>\n      <td>2005</td>\n      <td>5</td>\n      <td>4</td>\n      <td>76.0</td>\n      <td>179000.0</td>\n      <td>6</td>\n      <td>0</td>\n      <td>1</td>\n      <td>1</td>\n      <td>2199</td>\n    </tr>\n    <tr>\n      <th>4</th>\n      <td>48</td>\n      <td>2004</td>\n      <td>6</td>\n      <td>1</td>\n      <td>82.0</td>\n      <td>193000.0</td>\n      <td>5</td>\n      <td>0</td>\n      <td>1</td>\n      <td>1</td>\n      <td>3599</td>\n    </tr>\n  </tbody>\n</table>\n</div>"
     },
     "metadata": {},
     "execution_count": 6
    }
   ],
   "source": [
    "# =======================================================================\n",
    "# == AC mapping ==\n",
    "\n",
    "AC_map = {'Nema klimu' : 0, 'Manuelna klima' : 1, 'Automatska klima' : 2}\n",
    "\n",
    "# =======================================================================\n",
    "# == Brands mapping ==\n",
    "\n",
    "brands_file = open('../data/brands.txt', 'r', encoding='UTF-8')\n",
    "brands_raw_str = brands_file.readline()\n",
    "brands_file.close()\n",
    "\n",
    "brands_raw = brands_raw_str.split('value=\"')[2 : ]\n",
    "brands_clean = [x.replace(\"</select>\", \"<option \")[ : -17].replace('\">', \"$\") for x in brands_raw]\n",
    "\n",
    "brands_map = {}\n",
    "for i, brand in enumerate(brands_clean):\n",
    "    key = brand.split('$')[1]\n",
    "    brands_map.update({key: i})\n",
    "\n",
    "# =======================================================================\n",
    "# == Map bodyType  == \n",
    "\n",
    "body_map = {\n",
    "    'Limuzina' : 0, 'Hečbek' : 1, 'Karavan' : 2, 'Kupe' : 3, 'Kabriolet/Roadster' : 4, \n",
    "    'Monovolumen (MiniVan)' : 5, 'Džip/SUV' : 6, 'Pickup' : 7\n",
    "    }\n",
    "\n",
    "# =======================================================================\n",
    "# == Map fuelType ==\n",
    "\n",
    "fuel_map = {\n",
    "    'Benzin' : 0, 'Dizel' : 1, 'Metan CNG' : 2, 'Benzin + Gas (TNG)' : 3,\n",
    "    'Benzin + Metan (CNG)' : 4, 'Električni pogon' : 5, 'Hibridni pogon' : 6\n",
    "}\n",
    "\n",
    "# =======================================================================\n",
    "# == Map Oštećenje ==\n",
    "\n",
    "damage_map = {\n",
    "    'Nije oštećen' : 0, 'Oštećen - u voznom stanju' : 1,\n",
    "    'Oštećen - nije u voznom stanju' : 2\n",
    "    }\n",
    "\n",
    "# =======================================================================\n",
    "# == Map Menjač ==\n",
    "\n",
    "control_map = {\n",
    "    'Manuelni 4 brzine' : 0, 'Manuelni 5 brzina' : 1, \n",
    "    'Manuelni 6 brzina' : 2, 'Poluautomatski' : 3,\n",
    "    'Automatski / poluautomatski' : 4, 'Automatski' : 5\n",
    "}\n",
    "\n",
    "\n",
    "to_replace = {\n",
    "    \"Klima\" : AC_map, \"brand\" : brands_map, \"bodyType\" : body_map,\n",
    "    \"fuelType\" : fuel_map, \"Oštećenje\" : damage_map, \"Menjač\" : control_map\n",
    "    }\n",
    "\n",
    "df_clean = df_raw.replace(to_replace)\n",
    "df_clean.head()"
   ]
  },
  {
   "source": [
    "## Transform data to polynomial features"
   ],
   "cell_type": "markdown",
   "metadata": {}
  },
  {
   "cell_type": "code",
   "execution_count": 7,
   "metadata": {},
   "outputs": [],
   "source": [
    "data_np = df_clean.to_numpy()\n",
    "features_raw = data_np[ : , : -1]\n",
    "targets = data_np[ : , -1]\n",
    "\n",
    "# scaler = StandardScaler()\n",
    "# features = scaler.fit_transform(features_raw)\n",
    "\n",
    "features = features_raw"
   ]
  },
  {
   "cell_type": "code",
   "execution_count": 8,
   "metadata": {},
   "outputs": [],
   "source": [
    "degree = 1\n",
    "poly = PolynomialFeatures(degree)\n",
    "\n",
    "features_poly = poly.fit_transform(features)\n",
    "\n",
    "train_features, test_features, train_targets, test_targets = train_test_split(\n",
    "    features_poly, targets, test_size=0.33 \n",
    ")"
   ]
  },
  {
   "source": [
    "## Linear regression"
   ],
   "cell_type": "markdown",
   "metadata": {}
  },
  {
   "cell_type": "code",
   "execution_count": 9,
   "metadata": {},
   "outputs": [
    {
     "output_type": "stream",
     "name": "stdout",
     "text": [
      "LR RMSE --  4801.0602753495405\nPRED --  21292.040975358686\nREAL --  35990.0\n\n\n\nPRED --  4025.078918133164\nREAL --  4199.0\n\n\n\nPRED --  7241.673478799639\nREAL --  5250.0\n\n\n\nPRED --  6298.218840551679\nREAL --  5000.0\n\n\n\nPRED --  10043.780618656543\nREAL --  2990.0\n\n\n\nPRED --  6529.713546400424\nREAL --  3799.0\n\n\n\nPRED --  311.29885514150374\nREAL --  2999.0\n\n\n\nPRED --  24265.299142878735\nREAL --  21700.0\n\n\n\nPRED --  37850.29308590782\nREAL --  37158.0\n\n\n\nPRED --  7618.941004263703\nREAL --  12790.0\n\n\n\n"
     ]
    }
   ],
   "source": [
    "# Train\n",
    "linear_regressor = LinearRegression()\n",
    "linear_regressor.fit(train_features, train_targets)\n",
    "\n",
    "test_preds_lr = linear_regressor.predict(test_features)\n",
    "rmse_lr = mean_squared_error(test_targets, test_preds_lr, squared=False)\n",
    "\n",
    "print(\"LR RMSE -- \", rmse_lr)\n",
    "\n",
    "for i in range(10):\n",
    "    print(\"PRED -- \", test_preds_lr[i])\n",
    "    print(\"REAL -- \", test_targets[i])\n",
    "    print(\"\\n\\n\")\n",
    "\n",
    "# Test"
   ]
  },
  {
   "source": [
    "## K Nearest Neighbors"
   ],
   "cell_type": "markdown",
   "metadata": {}
  },
  {
   "cell_type": "code",
   "execution_count": 10,
   "metadata": {},
   "outputs": [
    {
     "output_type": "stream",
     "name": "stdout",
     "text": [
      "KNN RMSE --  8321.482870971675\n"
     ]
    }
   ],
   "source": [
    "N_neighbors = 4\n",
    "\n",
    "# Train\n",
    "knn = KNeighborsRegressor(n_neighbors=N_neighbors)\n",
    "knn.fit(train_features, train_targets)\n",
    "\n",
    "test_preds_knn = knn.predict(test_features)\n",
    "rmse_knn = mean_squared_error(test_targets, test_preds_knn, squared=False)\n",
    "\n",
    "print(\"KNN RMSE -- \", rmse_knn)\n",
    "\n",
    "for i in range(0):\n",
    "    print(\"PRED -- \", test_preds[i])\n",
    "    print(\"REAL -- \", test_targets[i])\n",
    "    print(\"\\n\\n\")\n",
    "\n",
    "# Test"
   ]
  }
 ]
}